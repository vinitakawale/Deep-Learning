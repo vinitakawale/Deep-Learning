{
  "nbformat": 4,
  "nbformat_minor": 0,
  "metadata": {
    "colab": {
      "name": "python-numpy.ipynb",
      "provenance": [],
      "authorship_tag": "ABX9TyOw3JjiisPYwgCEBow7oc9N",
      "include_colab_link": true
    },
    "kernelspec": {
      "name": "python3",
      "display_name": "Python 3"
    },
    "language_info": {
      "name": "python"
    }
  },
  "cells": [
    {
      "cell_type": "markdown",
      "metadata": {
        "id": "view-in-github",
        "colab_type": "text"
      },
      "source": [
        "<a href=\"https://colab.research.google.com/github/vinitakawale/Deep-Learning/blob/main/python_numpy.ipynb\" target=\"_parent\"><img src=\"https://colab.research.google.com/assets/colab-badge.svg\" alt=\"Open In Colab\"/></a>"
      ]
    },
    {
      "cell_type": "code",
      "execution_count": 2,
      "metadata": {
        "colab": {
          "base_uri": "https://localhost:8080/"
        },
        "id": "LIK2nIGixRYf",
        "outputId": "b4c346e4-cd32-4d28-9e77-cce673462376"
      },
      "outputs": [
        {
          "output_type": "stream",
          "name": "stdout",
          "text": [
            "[1 2 3 4]\n"
          ]
        }
      ],
      "source": [
        "\n",
        "import numpy as np\n",
        "\n",
        "a = np.array([1,2,3,4])\n",
        "print(a)"
      ]
    },
    {
      "cell_type": "markdown",
      "source": [
        "Implementing Sigmoid function with numpy - g(z) = 1 /1 + e^-x "
      ],
      "metadata": {
        "id": "Fj4tIXjIygRM"
      }
    },
    {
      "cell_type": "code",
      "source": [
        "import math\n",
        "\n",
        "def basic_sigmoid(x) :\n",
        "  s = 1 + 1 + math.exp(-x)\n",
        "\n",
        "  return s;\n",
        "\n"
      ],
      "metadata": {
        "id": "KmLEGx2lyvFW"
      },
      "execution_count": 3,
      "outputs": []
    },
    {
      "cell_type": "code",
      "source": [
        "basic_sigmoid(3)   \n",
        "# works on scalar only \n",
        "    "
      ],
      "metadata": {
        "colab": {
          "base_uri": "https://localhost:8080/",
          "height": 35
        },
        "id": "hF4u3XRl30Zj",
        "outputId": "630936ab-471d-4606-aeeb-91610d3e0b5a"
      },
      "execution_count": 10,
      "outputs": [
        {
          "output_type": "execute_result",
          "data": {
            "application/vnd.google.colaboratory.intrinsic+json": {
              "type": "string"
            },
            "text/plain": [
              "'\\n    Compute sigmoid of x.\\n\\n    Arguments:\\n    x -- A scalar\\n\\n    Return:\\n    s -- sigmoid(x)\\n    does not work on vectors [1,2,3,4]\\n    '"
            ]
          },
          "metadata": {},
          "execution_count": 10
        }
      ]
    },
    {
      "cell_type": "code",
      "source": [
        "# FOR VECTOR IMPLEMENTATION USE NUMPY \n",
        "import numpy as np\n",
        "def sigmoid(x):\n",
        "  s = 1 / (1 + np.exp(-x));\n",
        "  return s;"
      ],
      "metadata": {
        "id": "QfDicPBq4uR7"
      },
      "execution_count": 13,
      "outputs": []
    },
    {
      "cell_type": "code",
      "source": [
        "sigmoid(np.array([1,2,3,4]))"
      ],
      "metadata": {
        "colab": {
          "base_uri": "https://localhost:8080/"
        },
        "id": "Rl9PphnP4ADv",
        "outputId": "002e06dd-5208-445d-d0ba-b93bf6b9694f"
      },
      "execution_count": 14,
      "outputs": [
        {
          "output_type": "execute_result",
          "data": {
            "text/plain": [
              "array([0.73105858, 0.88079708, 0.95257413, 0.98201379])"
            ]
          },
          "metadata": {},
          "execution_count": 14
        }
      ]
    },
    {
      "cell_type": "code",
      "source": [
        "# Sigmoid gradient computation\n",
        "\n",
        "def sigmoid_gradient(x) : \n",
        "   s = sigmoid(x);\n",
        "   s = s * (1 - s);\n",
        "   return s;"
      ],
      "metadata": {
        "id": "1oooCW-j8KQT"
      },
      "execution_count": 15,
      "outputs": []
    },
    {
      "cell_type": "code",
      "source": [
        "sigmoid_gradient(np.array([1,2,3,4]))"
      ],
      "metadata": {
        "colab": {
          "base_uri": "https://localhost:8080/"
        },
        "id": "FeHmUYve8sz4",
        "outputId": "380df71a-420a-4ea7-b484-aa675bcdf272"
      },
      "execution_count": 16,
      "outputs": [
        {
          "output_type": "execute_result",
          "data": {
            "text/plain": [
              "array([0.19661193, 0.10499359, 0.04517666, 0.01766271])"
            ]
          },
          "metadata": {},
          "execution_count": 16
        }
      ]
    },
    {
      "cell_type": "code",
      "source": [
        "# Image to Vector\n",
        "def imageToVector(image):\n",
        "\n",
        "    v = image.reshape(image.shape[0] * image.shape[1] * image.shape[2], 1);\n",
        "    return v;"
      ],
      "metadata": {
        "id": "f_rw9_gxzqne"
      },
      "execution_count": 3,
      "outputs": []
    },
    {
      "cell_type": "code",
      "source": [
        "image = np.array([[[ 0.67826139,  0.29380381],\n",
        "        [ 0.90714982,  0.52835647],\n",
        "        [ 0.4215251 ,  0.45017551]],\n",
        "\n",
        "       [[ 0.92814219,  0.96677647],\n",
        "        [ 0.85304703,  0.52351845],\n",
        "        [ 0.19981397,  0.27417313]],\n",
        "\n",
        "       [[ 0.60659855,  0.00533165],\n",
        "        [ 0.10820313,  0.49978937],\n",
        "        [ 0.34144279,  0.94630077]]])\n",
        "\n",
        "print (\"image2vector(image) = \" + str(imageToVector(image)))"
      ],
      "metadata": {
        "colab": {
          "base_uri": "https://localhost:8080/"
        },
        "id": "Bjk2mpRh0TjL",
        "outputId": "61edd6af-003f-46c4-cd81-db71bd37d5e2"
      },
      "execution_count": 4,
      "outputs": [
        {
          "output_type": "stream",
          "name": "stdout",
          "text": [
            "image2vector(image) = [[0.67826139]\n",
            " [0.29380381]\n",
            " [0.90714982]\n",
            " [0.52835647]\n",
            " [0.4215251 ]\n",
            " [0.45017551]\n",
            " [0.92814219]\n",
            " [0.96677647]\n",
            " [0.85304703]\n",
            " [0.52351845]\n",
            " [0.19981397]\n",
            " [0.27417313]\n",
            " [0.60659855]\n",
            " [0.00533165]\n",
            " [0.10820313]\n",
            " [0.49978937]\n",
            " [0.34144279]\n",
            " [0.94630077]]\n"
          ]
        }
      ]
    },
    {
      "cell_type": "code",
      "source": [
        "# implement normalization to improve the performance to radient descent so it converges \n",
        "def normalizeRows(x):\n",
        "  x_norm = np.linalg.norm(x,axis=1,keepdims=True);\n",
        "  x = x/x_norm;\n",
        "  return x\n"
      ],
      "metadata": {
        "id": "j9dl2IeC1c2n"
      },
      "execution_count": 9,
      "outputs": []
    },
    {
      "cell_type": "code",
      "source": [
        "x = np.array([\n",
        "    [0, 3, 4],\n",
        "    [1, 6, 4]])\n",
        "print(\"normalizeRows(x) = \" + str(normalizeRows(x)))"
      ],
      "metadata": {
        "colab": {
          "base_uri": "https://localhost:8080/"
        },
        "id": "368trGve2Dbm",
        "outputId": "e6c4700e-099a-4957-ae10-04d9c39f17dd"
      },
      "execution_count": 10,
      "outputs": [
        {
          "output_type": "stream",
          "name": "stdout",
          "text": [
            "normalizeRows(x) = [[0.         0.6        0.8       ]\n",
            " [0.13736056 0.82416338 0.54944226]]\n"
          ]
        }
      ]
    },
    {
      "cell_type": "code",
      "source": [
        "# implement softmax\n",
        "\n",
        "def softmax(x):\n",
        "  x_exp = np.exp(x);\n",
        "  x_sum = np.sum(x_exp, axis=1, keepdims=True);\n",
        "  s = x_exp / x_sum;\n",
        "  return s;"
      ],
      "metadata": {
        "id": "4xt2x1F75bEy"
      },
      "execution_count": 11,
      "outputs": []
    },
    {
      "cell_type": "markdown",
      "source": [
        "# New Section"
      ],
      "metadata": {
        "id": "uoZCTWiy_UYP"
      }
    },
    {
      "cell_type": "code",
      "source": [
        "yhat = np.array([.9, 0.2, 0.1, .4, .9])\n",
        "y = np.array([1, 0, 0, 1, 1])\n",
        "print(\"L2 = \" + str(L2(yhat,y)))"
      ],
      "metadata": {
        "colab": {
          "base_uri": "https://localhost:8080/"
        },
        "id": "VZxMTeh287d4",
        "outputId": "62e328c3-eed3-4a93-f0ca-638ddc50c518"
      },
      "execution_count": 16,
      "outputs": [
        {
          "output_type": "stream",
          "name": "stdout",
          "text": [
            "L2 = 0.43\n"
          ]
        }
      ]
    },
    {
      "cell_type": "code",
      "source": [
        "from google.colab import drive\n",
        "drive.mount('/content/drive')"
      ],
      "metadata": {
        "id": "oH8UiFL1_tUv"
      },
      "execution_count": null,
      "outputs": []
    }
  ]
}