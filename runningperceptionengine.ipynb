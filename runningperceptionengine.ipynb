{
  "cells": [
    {
      "cell_type": "markdown",
      "metadata": {
        "id": "view-in-github",
        "colab_type": "text"
      },
      "source": [
        "<a href=\"https://colab.research.google.com/github/vinitakawale/Deep-Learning/blob/main/runningperceptionengine.ipynb\" target=\"_parent\"><img src=\"https://colab.research.google.com/assets/colab-badge.svg\" alt=\"Open In Colab\"/></a>"
      ]
    },
    {
      "cell_type": "code",
      "execution_count": 1,
      "metadata": {
        "colab": {
          "base_uri": "https://localhost:8080/"
        },
        "id": "IfIkAcJw3HIi",
        "outputId": "4522a3fa-434f-4af4-b87e-9f05d1add6b4"
      },
      "outputs": [
        {
          "output_type": "stream",
          "name": "stdout",
          "text": [
            "Cloning into 'perceptionengines'...\n",
            "remote: Enumerating objects: 157, done.\u001b[K\n",
            "remote: Counting objects: 100% (39/39), done.\u001b[K\n",
            "remote: Compressing objects: 100% (18/18), done.\u001b[K\n",
            "remote: Total 157 (delta 25), reused 29 (delta 21), pack-reused 118\u001b[K\n",
            "Receiving objects: 100% (157/157), 217.40 KiB | 7.50 MiB/s, done.\n",
            "Resolving deltas: 100% (93/93), done.\n",
            "/content/perceptionengines\n"
          ]
        }
      ],
      "source": [
        "!git clone https://github.com/pankajtakawale/perceptionengines.git\n",
        "%cd /content/perceptionengines/\n"
      ]
    },
    {
      "cell_type": "code",
      "source": [
        "!python render_images.py"
      ],
      "metadata": {
        "colab": {
          "base_uri": "https://localhost:8080/"
        },
        "id": "_BtDVsn8tsVO",
        "outputId": "28e5f4e4-56d7-4def-cfff-225c604de608"
      },
      "execution_count": 11,
      "outputs": [
        {
          "output_type": "stream",
          "name": "stdout",
          "text": [
            "Loading render function from lines1\n",
            "function loaded.\n",
            "Created random input with shape (24, 8)\n",
            "(random) -> outputs/lines1_20220830_l24_rNone_s1200_01.png\n"
          ]
        }
      ]
    },
    {
      "cell_type": "code",
      "execution_count": 3,
      "metadata": {
        "colab": {
          "base_uri": "https://localhost:8080/"
        },
        "id": "DCnSwUxBHrJW",
        "outputId": "ffa4dc9c-4bc6-4ba7-9436-d9d9f7d38708"
      },
      "outputs": [
        {
          "output_type": "stream",
          "name": "stdout",
          "text": [
            "Threshold is 30 attempts to 0.9999\n",
            "----> Processing ['birdhouse']\n",
            "Requested networks:  ['inceptionv3', 'resnet50', 'vgg19', 'xception']\n",
            "Setting up inceptionv3\n",
            "2022-08-30 18:29:39.576819: W tensorflow/core/common_runtime/gpu/gpu_bfc_allocator.cc:39] Overriding allow_growth setting because the TF_FORCE_GPU_ALLOW_GROWTH environment variable is set. Original config value was 0.\n",
            "Setting up resnet50\n",
            "Setting up vgg19\n",
            "Setting up xception\n",
            "Loading render function from lines1\n",
            "function loaded.\n",
            "Setting random seed:  1060\n",
            "init 1: 0.0000000000 (   4.45%)\n",
            "init 2: 0.0000000000 ( 759.34%)\n",
            "init 3: 0.0000000000 (1268.57%)\n",
            "init 4: 0.0000000000 ( 578.23%)\n",
            "init 5: 0.0000000001 ( 733.09%)\n",
            "init 6: 0.0000000003 ( 255.09%)\n",
            "iter 00000 448/birdhouse reward: 0.0000000267 [0.17145385, 5.818666, 0.5639564, 0.047452986] *\n",
            "iter 00001 448/birdhouse reward: 0.0000004266 [0.47957408, 22.312286, 0.69898486, 0.057033625] *\n",
            "iter 00002 448/birdhouse reward: 0.0000006793 [0.29111168, 25.273397, 0.9586536, 0.09631483] *\n",
            "iter 00003 448/birdhouse reward: 0.0000038378 [0.3238876, 44.977196, 2.2168052, 0.11883994] *\n",
            "iter 00004 448/birdhouse reward: 0.0000251389 [0.79013026, 54.578365, 2.9763956, 0.19585562] *\n",
            "iter 00005 448/birdhouse reward: 0.0001229235 [0.51163316, 68.03755, 11.147748, 0.31676733] *\n",
            "iter 00006 448/birdhouse reward: 0.0004887349 [1.3796335, 73.71364, 14.821627, 0.32423952] *\n",
            "iter 00007 448/birdhouse reward: 0.0002938766 [0.40916064, 85.19398, 26.736095, 0.31532925]  \n",
            "iter 00008 448/birdhouse reward: 0.0003892018 [0.5284428, 81.46898, 22.378658, 0.40397128]  \n",
            "iter 00009 448/birdhouse reward: 0.0019056837 [0.8320035, 83.06316, 44.482464, 0.61990964] *\n",
            "iter 00010 448/birdhouse reward: 0.0025803591 [0.7533545, 84.714905, 40.167694, 1.0065702] *\n",
            "iter 00011 448/birdhouse reward: 0.0080072306 [1.7081165, 92.96521, 55.495316, 0.9086323] *\n",
            "iter 00012 448/birdhouse reward: 0.0378719036 [4.126254, 94.96242, 64.65052, 1.4949871] *\n",
            "iter 00013 448/birdhouse reward: 0.0142490753 [1.674651, 91.14403, 55.32054, 1.6875151]  \n",
            "iter 00014 448/birdhouse reward: 0.0128253349 [3.3280287, 66.9465, 33.089478, 1.739658]  \n",
            "iter 00015 448/birdhouse reward: 0.1004021731 [8.920295, 90.42778, 77.61883, 1.6035957] *\n",
            "iter 00017 448/birdhouse reward: 0.1705818111 [12.135164, 86.594345, 65.72016, 2.470011]  \n",
            "iter 00018 448/birdhouse reward: 0.5745887291 [16.920166, 85.29886, 77.9192, 5.109339] *\n",
            "iter 00019 448/birdhouse reward: 0.6117983256 [12.806977, 90.664566, 85.65339, 6.151479] *\n",
            "iter 00020 448/birdhouse reward: 0.8558682166 [20.483341, 92.553246, 71.16882, 6.343437] *\n",
            "iter 00021 448/birdhouse reward: 0.9261051193 [19.307386, 94.22561, 57.16973, 8.904337] *\n",
            "iter 00022 448/birdhouse reward: 1.9305501133 [29.618689, 86.51992, 73.116356, 10.303493] *\n",
            "iter 00023 448/birdhouse reward: 1.2056035921 [10.068347, 90.73273, 59.208824, 22.28928]  \n",
            "iter 00024 448/birdhouse reward: 0.6709720008 [9.017403, 90.10991, 63.085545, 13.089429]  \n",
            "iter 00025 448/birdhouse reward: 0.6681236438 [14.321767, 92.22416, 60.02807, 8.426771]  \n",
            "iter 00026 448/birdhouse reward: 1.2913274579 [44.210033, 90.39924, 54.53891, 5.9243994]  \n",
            "iter 00027 448/birdhouse reward: 1.1259797029 [23.819866, 91.780594, 51.798065, 9.943215]  \n",
            "iter 00028 448/birdhouse reward: 1.4273030683 [43.085915, 94.3019, 60.489662, 5.807365]  \n",
            "iter 00029 448/birdhouse reward: 2.0400669426 [51.53409, 93.34804, 65.293045, 6.4949765] *\n",
            "iter 00030 448/birdhouse reward: 3.2846666873 [53.23625, 96.11567, 70.52328, 9.102427] *\n",
            "iter 00031 448/birdhouse reward: 2.2498708218 [36.674408, 90.11487, 49.05711, 13.877013]  \n",
            "iter 00032 448/birdhouse reward: 4.0161795914 [60.136456, 94.45541, 65.04775, 10.869668] *\n",
            "iter 00033 448/birdhouse reward: 2.2066177800 [28.015465, 97.36182, 71.94313, 11.24479]  \n",
            "iter 00034 448/birdhouse reward: 2.2304506972 [36.89043, 92.23872, 55.054577, 11.906173]  \n",
            "iter 00035 448/birdhouse reward: 1.6418714076 [44.156147, 85.7175, 44.88334, 9.66481]  \n",
            "iter 00036 448/birdhouse reward: 4.5269358903 [45.765762, 88.81351, 72.81901, 15.294658] *\n",
            "iter 00037 448/birdhouse reward: 4.8483334482 [63.746296, 94.00364, 59.992546, 13.486387] *\n",
            "iter 00038 448/birdhouse reward: 3.1862705946 [48.87267, 95.79237, 57.558598, 11.8243]  \n",
            "iter 00039 448/birdhouse reward: 9.6426412463 [82.60207, 98.043976, 60.996742, 19.519897] *\n",
            "iter 00040 448/birdhouse reward: 3.4218609333 [47.731823, 97.48861, 45.59869, 16.126799]  \n",
            "iter 00041 448/birdhouse reward: 1.6693580896 [74.09745, 96.51695, 36.378185, 6.4165525]  \n",
            "iter 00042 448/birdhouse reward: 3.6539729685 [51.827717, 95.24132, 47.412746, 15.612869]  \n",
            "iter 00043 448/birdhouse reward: 6.7302569747 [59.226505, 92.77571, 70.97612, 17.257147]  \n",
            "iter 00044 448/birdhouse reward: 11.1274935305 [70.40161, 94.69537, 70.590294, 23.645094] *\n",
            "iter 00045 448/birdhouse reward: 3.5903539509 [62.044132, 95.105995, 59.46859, 10.231541]  \n",
            "iter 00046 448/birdhouse reward: 9.9835105240 [55.80855, 96.08089, 73.608406, 25.294035]  \n",
            "iter 00047 448/birdhouse reward: 15.4144078493 [85.43655, 96.16464, 80.90509, 23.189524] *\n",
            "iter 00048 448/birdhouse reward: 4.6911310405 [49.822075, 95.19335, 74.40024, 13.294588]  \n",
            "iter 00049 448/birdhouse reward: 9.4686448574 [69.23132, 97.78016, 74.49227, 18.77687]  \n",
            "iter 00050 448/birdhouse reward: 5.9461791068 [46.559612, 93.65643, 60.64169, 22.486397]  \n",
            "iter 00051 448/birdhouse reward: 11.7333605886 [93.84638, 95.05232, 81.46447, 16.146336]  \n",
            "iter 00052 448/birdhouse reward: 15.0418072939 [71.62085, 95.13966, 81.735146, 27.007856]  \n",
            "iter 00053 448/birdhouse reward: 12.5473305583 [72.08725, 95.409, 82.93398, 21.997383]  \n",
            "iter 00054 448/birdhouse reward: 17.0596152544 [96.73138, 96.20999, 81.0244, 22.623821] *\n",
            "iter 00055 448/birdhouse reward: 17.6961332560 [90.650665, 97.32054, 81.104836, 24.731823] *\n",
            "iter 00056 448/birdhouse reward: 9.8515629768 [58.87295, 98.44445, 86.2804, 19.70089]  \n",
            "iter 00057 448/birdhouse reward: 27.7935057878 [94.28987, 98.26478, 87.11673, 34.43332] *\n",
            "iter 00058 448/birdhouse reward: 27.8587162495 [93.81301, 97.31804, 84.129295, 36.270817] *\n",
            "iter 00059 448/birdhouse reward: 42.4584686756 [88.03345, 96.85545, 82.506836, 60.353523] *\n",
            "iter 00060 448/birdhouse reward: 28.1384289265 [97.46474, 98.323944, 79.30302, 37.0257]  \n",
            "iter 00061 448/birdhouse reward: 28.1327545643 [98.1537, 98.02408, 79.245865, 36.897438]  \n",
            "iter 00062 448/birdhouse reward: 24.2432758212 [93.90403, 97.08384, 76.92377, 34.570007]  \n",
            "iter 00063 448/birdhouse reward: 21.2034434080 [89.114296, 99.02127, 81.339134, 29.541393]  \n",
            "iter 00064 448/birdhouse reward: 23.5316351056 [92.932976, 99.16073, 65.32556, 39.08944]  \n",
            "iter 00065 448/birdhouse reward: 27.3864924908 [96.13022, 99.06729, 70.9882, 40.50979]  \n",
            "iter 00066 448/birdhouse reward: 54.7375619411 [92.98002, 98.89237, 81.96068, 72.63193] *\n",
            "iter 00067 448/birdhouse reward: 52.8449475765 [98.54353, 98.463615, 84.31757, 64.5924]  \n",
            "iter 00068 448/birdhouse reward: 36.7256343365 [98.61604, 98.310745, 75.31306, 50.29797]  \n",
            "iter 00069 448/birdhouse reward: 60.8774960041 [94.61521, 97.504074, 89.54553, 73.69348] *\n",
            "iter 00070 448/birdhouse reward: 49.2184549570 [92.30815, 98.3743, 83.1339, 65.197075]  \n",
            "iter 00071 448/birdhouse reward: 57.7568173409 [96.94904, 98.56328, 84.102776, 71.867805]  \n",
            "iter 00072 448/birdhouse reward: 42.7503168583 [66.41965, 98.93738, 83.266556, 78.12891]  \n",
            "iter 00073 448/birdhouse reward: 59.4018816948 [89.34237, 98.39677, 87.8702, 76.89892]  \n",
            "iter 00074 448/birdhouse reward: 60.1339221001 [96.50832, 98.58778, 89.344536, 70.73976]  \n",
            "iter 00075 448/birdhouse reward: 50.2719044685 [97.10077, 96.74681, 71.04463, 75.32424]  \n",
            "iter 00076 448/birdhouse reward: 52.2448182106 [94.40862, 96.05616, 83.864365, 68.6956]  \n",
            "iter 00077 448/birdhouse reward: 53.3373713493 [95.15556, 97.26373, 89.209045, 64.60076]  \n",
            "iter 00078 448/birdhouse reward: 67.6010131836 [99.03525, 96.504654, 88.56451, 79.86481] *\n",
            "iter 00079 448/birdhouse reward: 60.9540343285 [98.780716, 98.39667, 76.391945, 82.0923]  \n",
            "iter 00080 448/birdhouse reward: 72.7336108685 [95.95202, 98.0146, 88.75543, 87.135544] *\n",
            "iter 00081 448/birdhouse reward: 80.5181622505 [98.16435, 97.53526, 87.904655, 95.667946] *\n",
            "iter 00082 448/birdhouse reward: 81.1504721642 [98.47971, 97.61418, 90.28774, 93.498055] *\n",
            "iter 00083 448/birdhouse reward: 76.3335108757 [99.78875, 93.93898, 88.612495, 91.89521]  \n",
            "iter 00084 448/birdhouse reward: 77.1899163723 [97.98514, 98.956314, 87.16458, 91.33072]  \n",
            "iter 00085 448/birdhouse reward: 74.7942090034 [98.36591, 95.197525, 85.00309, 93.964325]  \n",
            "iter 00086 448/birdhouse reward: 73.7819612026 [97.833786, 94.490555, 91.1971, 87.516914]  \n",
            "iter 00087 448/birdhouse reward: 68.4244334698 [99.64205, 97.62245, 76.67426, 91.74224]  \n",
            "iter 00088 448/birdhouse reward: 85.8433425426 [98.4784, 98.0157, 91.79457, 96.88422] *\n",
            "iter 00089 448/birdhouse reward: 57.8629493713 [87.32847, 96.88846, 73.726326, 92.75774]  \n",
            "iter 00090 448/birdhouse reward: 73.8789498806 [99.74544, 98.856125, 91.00275, 82.33217]  \n",
            "iter 00091 448/birdhouse reward: 64.9693846703 [98.60803, 97.181, 71.89215, 94.30479]  \n",
            "iter 00092 448/birdhouse reward: 83.5023105145 [99.48394, 98.53815, 89.024956, 95.6818]  \n",
            "iter 00093 448/birdhouse reward: 83.3330512047 [99.754974, 98.30484, 87.704384, 96.8917]  \n",
            "iter 00094 448/birdhouse reward: 85.4979991913 [99.81223, 97.951546, 90.96421, 96.13696]  \n",
            "iter 00095 448/birdhouse reward: 81.3931643963 [98.94439, 96.97543, 90.51136, 93.71995]  \n",
            "iter 00096 448/birdhouse reward: 80.5322289467 [99.95925, 95.486626, 87.752426, 96.14908]  \n",
            "iter 00097 448/birdhouse reward: 79.5360147953 [99.674286, 97.07976, 86.41435, 95.11875]  \n",
            "iter 00098 448/birdhouse reward: 82.1862041950 [98.47308, 97.074905, 89.922745, 95.61032]  \n",
            "iter 00099 448/birdhouse reward: 76.0559141636 [99.721756, 95.2916, 86.0556, 93.00563]  \n",
            "iter 00100 448/birdhouse reward: 72.9363262653 [98.505035, 95.28309, 81.57514, 95.260254]  \n",
            "iter 00101 448/birdhouse reward: 78.6926746368 [99.02432, 96.37157, 90.12655, 91.49361]  \n",
            "iter 00102 448/birdhouse reward: 85.6006503105 [98.774086, 97.208176, 91.90103, 97.008736]  \n",
            "iter 00103 448/birdhouse reward: 79.6131253242 [99.06565, 98.363335, 89.76867, 91.01304]  \n",
            "iter 00104 448/birdhouse reward: 75.8340954781 [99.54516, 92.97153, 86.10085, 95.167145]  \n",
            "iter 00105 448/birdhouse reward: 76.7114639282 [99.75031, 95.01276, 83.75021, 96.6447]  \n",
            "iter 00106 448/birdhouse reward: 74.9318599701 [98.316826, 96.23702, 84.438194, 93.790215]  \n",
            "iter 00107 448/birdhouse reward: 60.2968633175 [89.83336, 98.591866, 82.11729, 82.905136]  \n",
            "iter 00108 448/birdhouse reward: 83.1217169762 [99.16942, 94.54926, 92.069374, 96.28605]  \n",
            "iter 00109 448/birdhouse reward: 83.9143157005 [94.79219, 98.12584, 94.69551, 95.26881]  \n",
            "iter 00110 448/birdhouse reward: 87.5013649464 [99.35752, 98.22034, 93.250046, 96.153175] *\n",
            "iter 00111 448/birdhouse reward: 76.4697909355 [99.31284, 98.35144, 83.004585, 94.31955]  \n",
            "iter 00112 448/birdhouse reward: 84.9848628044 [99.60774, 96.40962, 91.93081, 96.26468]  \n",
            "iter 00113 448/birdhouse reward: 83.1767201424 [99.455345, 99.07408, 88.36776, 95.52561]  \n",
            "iter 00114 448/birdhouse reward: 88.7982726097 [98.41217, 98.91256, 92.97269, 98.118034] *\n",
            "iter 00115 448/birdhouse reward: 94.6927189827 [99.79576, 98.71398, 97.508514, 98.57873] *\n",
            "iter 00116 448/birdhouse reward: 75.5949139595 [99.18449, 99.09569, 84.18857, 91.35682]  \n",
            "iter 00117 448/birdhouse reward: 78.6856174469 [99.65004, 97.3185, 83.38971, 97.29935]  \n",
            "iter 00118 448/birdhouse reward: 92.5722479820 [99.10897, 98.76198, 96.43866, 98.06794]  \n",
            "iter 00119 448/birdhouse reward: 90.5666053295 [99.51439, 97.38106, 96.35898, 96.98743]  \n",
            "iter 00120 448/birdhouse reward: 86.5332245827 [99.86417, 97.544754, 95.682816, 92.840065]  \n",
            "iter 00121 448/birdhouse reward: 85.8940005302 [99.37345, 98.507706, 95.94606, 91.45239]  \n",
            "iter 00122 448/birdhouse reward: 82.4427962303 [99.737656, 99.250206, 95.36344, 87.33338]  \n",
            "iter 00123 448/birdhouse reward: 83.2022190094 [99.1212, 96.86881, 96.9226, 89.40447]  \n",
            "iter 00124 448/birdhouse reward: 88.0332171917 [98.79934, 97.983376, 94.389, 96.342674]  \n",
            "iter 00125 448/birdhouse reward: 89.2855465412 [99.67367, 98.472244, 93.87154, 96.90651]  \n",
            "iter 00126 448/birdhouse reward: 91.8528258801 [99.640236, 99.21356, 94.74057, 98.07329]  \n",
            "iter 00127 448/birdhouse reward: 91.9659614563 [99.204, 98.41362, 95.69751, 98.433304]  \n",
            "iter 00128 448/birdhouse reward: 91.5338695049 [99.89195, 98.52318, 93.914566, 99.03299]  \n",
            "iter 00129 448/birdhouse reward: 93.3076024055 [99.713554, 99.584755, 95.654884, 98.23421]  \n",
            "iter 00130 448/birdhouse reward: 92.0200169086 [99.853516, 98.30452, 94.531906, 99.16698]  \n",
            "iter 00131 448/birdhouse reward: 93.2045638561 [99.90955, 99.553474, 95.059, 98.57813]  \n",
            "iter 00132 448/birdhouse reward: 95.0473427773 [99.550186, 98.71896, 98.36911, 98.319244] *\n",
            "iter 00133 448/birdhouse reward: 92.5164818764 [99.8227, 98.66134, 94.59945, 99.30111]  \n",
            "iter 00134 448/birdhouse reward: 94.2378222942 [99.979034, 98.84468, 96.77944, 98.53258]  \n",
            "iter 00135 448/birdhouse reward: 90.4025912285 [99.95146, 97.40683, 93.74989, 99.044785]  \n",
            "iter 00136 448/birdhouse reward: 92.8455710411 [99.94651, 97.90162, 96.2857, 98.546684]  \n",
            "iter 00137 448/birdhouse reward: 92.4874603748 [99.852165, 97.38282, 96.23078, 98.83916]  \n",
            "iter 00138 448/birdhouse reward: 90.6017959118 [99.17287, 96.654144, 95.09572, 99.3945]  \n",
            "iter 00139 448/birdhouse reward: 95.0098872185 [99.93168, 98.14566, 97.77993, 99.07062]  \n",
            "iter 00140 448/birdhouse reward: 93.3283686638 [99.4613, 99.141106, 96.49319, 98.08648]  \n",
            "iter 00141 448/birdhouse reward: 84.5454335213 [98.317024, 99.03525, 89.547905, 96.96525]  \n",
            "iter 00142 448/birdhouse reward: 88.0154252052 [99.00252, 98.76991, 94.01067, 95.74382]  \n",
            "iter 00143 448/birdhouse reward: 91.3751482964 [98.58618, 98.35638, 95.95613, 98.20572]  \n",
            "iter 00144 448/birdhouse reward: 89.8971199989 [99.80065, 98.99566, 95.11708, 95.66161]  \n",
            "iter 00145 448/birdhouse reward: 90.8894836903 [98.96372, 97.69987, 94.71968, 99.2438]  \n",
            "iter 00146 448/birdhouse reward: 92.3575758934 [99.968925, 98.922554, 95.901886, 97.383415]  \n",
            "iter 00147 448/birdhouse reward: 93.6241328716 [99.643196, 97.91745, 97.68365, 98.233185]  \n",
            "iter 00148 448/birdhouse reward: 91.5077388287 [99.55801, 97.63826, 97.14576, 96.90311]  \n",
            "iter 00149 448/birdhouse reward: 94.5662319660 [99.73282, 99.505005, 97.84099, 97.394005]  \n",
            "iter 00150 448/birdhouse reward: 92.2290980816 [99.87372, 98.129745, 97.35936, 96.65812]  \n",
            "iter 00151 448/birdhouse reward: 93.4565424919 [99.9514, 98.55223, 95.911255, 98.920166]  \n",
            "iter 00152 448/birdhouse reward: 90.0927722454 [99.808815, 99.18946, 93.36368, 97.471466]  \n",
            "iter 00153 448/birdhouse reward: 91.3285553455 [99.88991, 96.49998, 95.47149, 99.23939]  \n",
            "iter 00154 448/birdhouse reward: 92.6790356636 [99.918495, 98.865685, 95.68006, 98.05473]  \n",
            "iter 00155 448/birdhouse reward: 95.6398367882 [99.511566, 99.10924, 98.06062, 98.89094] *\n",
            "iter 00156 448/birdhouse reward: 90.2249157429 [99.23473, 99.11903, 95.68712, 95.86327]  \n",
            "iter 00157 448/birdhouse reward: 92.1234011650 [99.84318, 98.22743, 96.286026, 97.556366]  \n",
            "iter 00158 448/birdhouse reward: 95.1517760754 [99.92639, 99.56445, 97.91907, 97.67085]  \n",
            "iter 00159 448/birdhouse reward: 95.3696131706 [99.84759, 99.22074, 97.11391, 99.12623]  \n",
            "iter 00160 448/birdhouse reward: 93.9438223839 [99.76285, 98.64561, 96.625694, 98.79367]  \n",
            "iter 00161 448/birdhouse reward: 95.1309502125 [99.9751, 99.18015, 97.041824, 98.86585]  \n",
            "iter 00162 448/birdhouse reward: 93.2409584522 [99.717674, 99.24692, 97.91459, 96.22108]  \n",
            "iter 00163 448/birdhouse reward: 92.5758242607 [99.88127, 98.24487, 95.27127, 99.024284]  \n",
            "iter 00164 448/birdhouse reward: 91.7225956917 [99.95793, 98.44254, 93.68843, 99.49247]  \n",
            "iter 00165 448/birdhouse reward: 93.5397148132 [99.865425, 99.0556, 95.269, 99.254524]  \n",
            "iter 00166 448/birdhouse reward: 95.8241641521 [99.78284, 99.46569, 97.530495, 98.99321] *\n",
            "iter 00167 448/birdhouse reward: 95.2919125557 [99.842155, 98.17847, 98.02624, 99.170746]  \n",
            "iter 00168 448/birdhouse reward: 93.4437572956 [99.89012, 98.977005, 95.82537, 98.630875]  \n",
            "iter 00169 448/birdhouse reward: 96.2564289570 [99.81993, 99.65309, 97.37986, 99.36936] *\n",
            "iter 00170 448/birdhouse reward: 91.3689434528 [99.66108, 98.45477, 94.9005, 98.12232]  \n",
            "iter 00171 448/birdhouse reward: 96.5077579021 [99.77108, 99.44236, 98.1286, 99.126686] *\n",
            "iter 00172 448/birdhouse reward: 95.7904696465 [99.84609, 99.50854, 97.50388, 98.88011]  \n",
            "iter 00173 448/birdhouse reward: 95.6605136395 [99.962906, 99.47685, 97.00123, 99.17325]  \n",
            "iter 00174 448/birdhouse reward: 94.4410324097 [99.95316, 97.7198, 97.6991, 98.96713]  \n",
            "iter 00175 448/birdhouse reward: 97.5075423717 [99.91928, 99.581055, 98.75735, 99.22994] *\n",
            "iter 00176 448/birdhouse reward: 96.7558205128 [99.9762, 99.83319, 97.50451, 99.42161]  \n",
            "iter 00177 448/birdhouse reward: 96.3562786579 [99.87699, 99.74185, 98.568695, 98.129166]  \n",
            "iter 00178 448/birdhouse reward: 95.8769679070 [99.97366, 99.50506, 97.37564, 98.97677]  \n",
            "iter 00179 448/birdhouse reward: 98.0688393116 [99.92064, 99.92525, 98.668686, 99.54542] *\n",
            "iter 00180 448/birdhouse reward: 98.0175375938 [99.964294, 99.911156, 98.58159, 99.55181]  \n",
            "iter 00181 448/birdhouse reward: 97.6338982582 [99.96592, 99.905556, 98.230446, 99.5206]  \n",
            "iter 00182 448/birdhouse reward: 95.6721603870 [99.94505, 99.855576, 97.00872, 98.819176]  \n",
            "iter 00183 448/birdhouse reward: 89.2178535461 [99.94587, 99.65278, 90.007866, 99.52153]  \n",
            "iter 00184 448/birdhouse reward: 93.0653572083 [99.77871, 99.634445, 94.36628, 99.20277]  \n",
            "iter 00185 448/birdhouse reward: 92.4784779549 [99.79952, 99.42781, 93.555626, 99.617226]  \n",
            "iter 00186 448/birdhouse reward: 96.3455975056 [99.92892, 99.33796, 97.95268, 99.08527]  \n",
            "iter 00187 448/birdhouse reward: 96.7417597771 [99.936325, 99.73327, 97.54613, 99.50398]  \n",
            "iter 00188 448/birdhouse reward: 96.1676239967 [99.97777, 98.43735, 98.54511, 99.15861]  \n",
            "iter 00189 448/birdhouse reward: 98.0758965015 [99.88216, 99.670395, 98.826324, 99.686325] *\n",
            "iter 00190 448/birdhouse reward: 97.1200644970 [99.96456, 99.58595, 98.32543, 99.219925]  \n",
            "iter 00191 448/birdhouse reward: 96.6639161110 [99.98447, 99.480736, 97.907295, 99.260796]  \n",
            "iter 00192 448/birdhouse reward: 96.1794197559 [99.93075, 99.041954, 97.76163, 99.40206]  \n",
            "iter 00193 448/birdhouse reward: 95.4605460167 [99.99542, 99.828896, 95.84006, 99.77932]  \n",
            "iter 00194 448/birdhouse reward: 93.7128901482 [99.95624, 99.55962, 94.92305, 99.20522]  \n",
            "iter 00195 448/birdhouse reward: 96.5910315514 [99.98885, 99.93655, 96.88858, 99.76732]  \n",
            "iter 00196 448/birdhouse reward: 93.7659859657 [99.94786, 98.927414, 95.2108, 99.602196]  \n",
            "iter 00197 448/birdhouse reward: 96.4356124401 [99.98597, 99.652016, 97.03142, 99.747025]  \n",
            "iter 00198 448/birdhouse reward: 96.8146920204 [99.934326, 99.69572, 97.39541, 99.77266]  \n",
            "iter 00199 448/birdhouse reward: 97.1559703350 [99.97514, 99.327156, 98.365005, 99.46467]  \n",
            "iter 00200 448/birdhouse reward: 97.5406825542 [99.91864, 99.69797, 98.154625, 99.75673]  \n",
            "iter 00201 448/birdhouse reward: 97.7762222290 [99.896065, 99.743065, 98.83555, 99.28621]  \n",
            "iter 00202 448/birdhouse reward: 98.7207531929 [99.97217, 99.86793, 98.97272, 99.90512] *\n",
            "iter 00203 448/birdhouse reward: 97.0188260078 [99.91478, 99.87408, 97.568, 99.647415]  \n",
            "iter 00204 448/birdhouse reward: 98.8402485847 [99.90443, 99.82866, 99.18533, 99.918594] *\n",
            "iter 00205 448/birdhouse reward: 98.3573734760 [99.98485, 99.86842, 98.671135, 99.82846]  \n",
            "iter 00206 448/birdhouse reward: 98.5962271690 [99.99286, 99.84025, 98.86206, 99.89783]  \n",
            "iter 00207 448/birdhouse reward: 97.8273272514 [99.9505, 99.92572, 98.27353, 99.669304]  \n",
            "iter 00208 448/birdhouse reward: 97.1257805824 [99.918686, 99.790825, 97.73303, 99.66799]  \n",
            "iter 00209 448/birdhouse reward: 98.0936825275 [99.97247, 99.905846, 98.76541, 99.44085]  \n",
            "iter 00210 448/birdhouse reward: 99.0349113941 [99.932274, 99.89976, 99.338234, 99.86233] *\n",
            "iter 00211 448/birdhouse reward: 98.4225153923 [99.9488, 99.84805, 99.06451, 99.5541]  \n",
            "iter 00212 448/birdhouse reward: 98.1766402721 [99.974335, 99.78165, 98.64972, 99.76383]  \n",
            "iter 00213 448/birdhouse reward: 98.6560463905 [99.98814, 99.90805, 99.11262, 99.64277]  \n",
            "iter 00214 448/birdhouse reward: 98.5694289207 [99.96785, 99.90202, 99.02931, 99.665276]  \n",
            "iter 00215 448/birdhouse reward: 98.3097910881 [99.94763, 99.79695, 98.74544, 99.81365]  \n",
            "iter 00216 448/birdhouse reward: 98.5872924328 [99.9554, 99.95233, 98.8372, 99.83925]  \n",
            "iter 00217 448/birdhouse reward: 99.2456138134 [99.98249, 99.95249, 99.53934, 99.76977] *\n",
            "iter 00218 448/birdhouse reward: 99.0814328194 [99.976746, 99.93015, 99.356926, 99.81563]  \n",
            "iter 00219 448/birdhouse reward: 99.1689085960 [99.966255, 99.972275, 99.52145, 99.70705]  \n",
            "iter 00220 448/birdhouse reward: 99.3146538734 [99.914085, 99.924934, 99.66129, 99.81278] *\n",
            "iter 00221 448/birdhouse reward: 98.8876521587 [99.94115, 99.89964, 99.45523, 99.58781]  \n",
            "iter 00222 448/birdhouse reward: 98.7099468708 [99.95289, 99.79886, 99.542725, 99.410095]  \n",
            "iter 00223 448/birdhouse reward: 98.8872170448 [99.9659, 99.72536, 99.5345, 99.65729]  \n",
            "iter 00224 448/birdhouse reward: 99.0114092827 [99.953445, 99.65214, 99.641525, 99.76091]  \n",
            "iter 00225 448/birdhouse reward: 98.7095654011 [99.85639, 99.877235, 99.45806, 99.51231]  \n",
            "iter 00226 448/birdhouse reward: 98.5504448414 [99.794945, 99.36983, 99.59155, 99.7868]  \n",
            "iter 00227 448/birdhouse reward: 99.2410957813 [99.98474, 99.8685, 99.75332, 99.63273]  \n",
            "iter 00228 448/birdhouse reward: 98.7671673298 [99.80484, 99.7609, 99.40065, 99.795616]  \n",
            "iter 00229 448/birdhouse reward: 98.6212849617 [99.96511, 99.91621, 99.11724, 99.61783]  \n",
            "iter 00230 448/birdhouse reward: 98.4539687634 [99.82898, 99.95512, 99.10747, 99.555466]  \n",
            "iter 00231 448/birdhouse reward: 98.4905421734 [99.55548, 99.98573, 99.39478, 99.5469]  \n",
            "iter 00232 448/birdhouse reward: 99.0438818932 [99.978035, 99.93282, 99.36856, 99.762184]  \n",
            "iter 00233 448/birdhouse reward: 98.8549530506 [99.83661, 99.95221, 99.245384, 99.81734]  \n",
            "iter 00234 448/birdhouse reward: 98.4132647514 [99.93392, 99.931755, 98.86494, 99.67699]  \n",
            "iter 00235 448/birdhouse reward: 98.9449381828 [99.976906, 99.95252, 99.2967, 99.7161]  \n",
            "iter 00236 448/birdhouse reward: 99.4430661201 [99.987686, 99.96718, 99.73418, 99.75315] *\n",
            "iter 00237 448/birdhouse reward: 99.0092396736 [99.97832, 99.980705, 99.2195, 99.828995]  \n",
            "iter 00238 448/birdhouse reward: 99.2688953876 [99.86729, 99.9735, 99.483215, 99.94363]  \n",
            "iter 00239 448/birdhouse reward: 99.0498423576 [99.988686, 99.981964, 99.15246, 99.92582]  \n",
            "iter 00240 448/birdhouse reward: 99.4778454304 [99.983894, 99.94752, 99.57331, 99.97269] *\n",
            "iter 00241 448/birdhouse reward: 99.0033328533 [99.97486, 99.97255, 99.1131, 99.94181]  \n",
            "iter 00242 448/birdhouse reward: 98.7910449505 [99.79409, 99.90176, 99.178085, 99.913445]  \n",
            "iter 00243 448/birdhouse reward: 99.1667866707 [99.98394, 99.9154, 99.40508, 99.8608]  \n",
            "iter 00244 448/birdhouse reward: 98.8951385021 [99.94854, 99.81071, 99.22751, 99.905464]  \n",
            "iter 00245 448/birdhouse reward: 98.2069849968 [99.76436, 99.93335, 98.7004, 99.80162]  \n",
            "iter 00246 448/birdhouse reward: 99.3094325066 [99.98163, 99.93118, 99.517975, 99.87752]  \n",
            "iter 00247 448/birdhouse reward: 99.3049025536 [99.94191, 99.96928, 99.68501, 99.70724]  \n",
            "iter 00248 448/birdhouse reward: 98.4368503094 [99.98223, 99.97842, 98.565834, 99.90845]  \n",
            "iter 00249 448/birdhouse reward: 98.4439671040 [99.94801, 99.95982, 98.870575, 99.66032]  \n",
            "iter 00250 448/birdhouse reward: 99.2493808270 [99.94729, 99.933876, 99.51683, 99.84988]  \n",
            "iter 00251 448/birdhouse reward: 99.1975963116 [99.90228, 99.93952, 99.531975, 99.82189]  \n",
            "iter 00252 448/birdhouse reward: 98.6881911755 [99.93118, 99.95266, 99.08698, 99.71331]  \n",
            "iter 00253 448/birdhouse reward: 99.4315981865 [99.99095, 99.94405, 99.678314, 99.81736]  \n",
            "iter 00254 448/birdhouse reward: 99.1798043251 [99.985756, 99.96721, 99.5732, 99.6518]  \n",
            "iter 00255 448/birdhouse reward: 97.7247536182 [99.794685, 99.943436, 98.27491, 99.70116]  \n",
            "iter 00256 448/birdhouse reward: 98.6335575581 [99.95049, 99.82809, 99.10878, 99.74128]  \n",
            "iter 00257 448/birdhouse reward: 98.5980391502 [99.955284, 99.80339, 98.99975, 99.8351]  \n",
            "iter 00258 448/birdhouse reward: 99.1403937340 [99.984535, 99.92617, 99.43094, 99.7969]  \n",
            "iter 00259 448/birdhouse reward: 98.8418877125 [99.94579, 99.953545, 99.27947, 99.65955]  \n",
            "iter 00260 448/birdhouse reward: 99.2259979248 [99.9918, 99.95261, 99.434006, 99.846306]  \n",
            "iter 00261 448/birdhouse reward: 99.4528114796 [99.98608, 99.95166, 99.60686, 99.907555]  \n",
            "iter 00262 448/birdhouse reward: 99.2278456688 [99.96045, 99.97391, 99.43322, 99.858986]  \n",
            "iter 00263 448/birdhouse reward: 99.1187930107 [99.98928, 99.93151, 99.29458, 99.90209]  \n",
            "iter 00264 448/birdhouse reward: 99.0542411804 [99.8113, 99.93087, 99.44402, 99.86538]  \n",
            "iter 00265 448/birdhouse reward: 98.4876751900 [99.98866, 99.95598, 98.655045, 99.88562]  \n",
            "iter 00266 448/birdhouse reward: 99.4104027748 [99.98604, 99.89903, 99.64726, 99.87706]  \n",
            "iter 00267 448/birdhouse reward: 99.3968844414 [99.99178, 99.94505, 99.52003, 99.939384]  \n",
            "iter 00268 448/birdhouse reward: 99.0628421307 [99.98516, 99.93237, 99.1835, 99.96077]  \n",
            "iter 00269 448/birdhouse reward: 98.6573040485 [99.98923, 99.86509, 98.97147, 99.827995]  \n",
            "iter 00270 448/birdhouse reward: 97.8895962238 [99.80432, 99.796936, 98.577515, 99.699295]  \n",
            "Early stop - 30 iterations without quality improvement\n"
          ]
        }
      ],
      "source": [
        "!python plan_image.py \\\n",
        "  --outdir outputs/birdhouse_1060 \\\n",
        "  --target-class birdhouse \\\n",
        "  --random-seed 1060 \\\n",
        "  --renderer lines1 \\\n",
        "  --num-lines 30"
      ]
    },
    {
      "cell_type": "code",
      "source": [],
      "metadata": {
        "id": "tErx_c2PsRC8"
      },
      "execution_count": null,
      "outputs": []
    },
    {
      "cell_type": "code",
      "source": [
        "!python score_images.py \\\n",
        "  --input-glob 'tick.jpg' \\\n",
        "  --target-class tick \\\n",
        "  --do-graphfile"
      ],
      "metadata": {
        "colab": {
          "base_uri": "https://localhost:8080/"
        },
        "id": "9svjUHKK1165",
        "outputId": "59739af7-995e-422e-9cae-6d007832f7b7"
      },
      "execution_count": 17,
      "outputs": [
        {
          "output_type": "stream",
          "name": "stdout",
          "text": [
            "Found 1 files in glob tick.jpg\n",
            "Requested networks:  ['inceptionv3', 'mobilenet', 'resnet50', 'vgg16', 'vgg19', 'xception']\n",
            "Setting up inceptionv3\n",
            "2022-08-30 17:40:58.487009: W tensorflow/core/common_runtime/gpu/gpu_bfc_allocator.cc:39] Overriding allow_growth setting because the TF_FORCE_GPU_ALLOW_GROWTH environment variable is set. Original config value was 0.\n",
            "Setting up mobilenet\n",
            "Downloading data from https://storage.googleapis.com/tensorflow/keras-applications/mobilenet/mobilenet_1_0_224_tf.h5\n",
            "17227776/17225924 [==============================] - 0s 0us/step\n",
            "17235968/17225924 [==============================] - 0s 0us/step\n",
            "Setting up resnet50\n",
            "Setting up vgg16\n",
            "Downloading data from https://storage.googleapis.com/tensorflow/keras-applications/vgg16/vgg16_weights_tf_dim_ordering_tf_kernels.h5\n",
            "553467904/553467096 [==============================] - 2s 0us/step\n",
            "553476096/553467096 [==============================] - 2s 0us/step\n",
            "Setting up vgg19\n",
            "Setting up xception\n",
            "WARNING:tensorflow:5 out of the last 5 calls to <function Model.make_predict_function.<locals>.predict_function at 0x7f388af8d7a0> triggered tf.function retracing. Tracing is expensive and the excessive number of tracings could be due to (1) creating @tf.function repeatedly in a loop, (2) passing tensors with different shapes, (3) passing Python objects instead of tensors. For (1), please define your @tf.function outside of the loop. For (2), @tf.function has experimental_relax_shapes=True option that relaxes argument shapes that can avoid unnecessary retracing. For (3), please refer to https://www.tensorflow.org/guide/function#controlling_retracing and https://www.tensorflow.org/api_docs/python/tf/function for  more details.\n",
            "WARNING:tensorflow:6 out of the last 6 calls to <function Model.make_predict_function.<locals>.predict_function at 0x7f388af33d40> triggered tf.function retracing. Tracing is expensive and the excessive number of tracings could be due to (1) creating @tf.function repeatedly in a loop, (2) passing tensors with different shapes, (3) passing Python objects instead of tensors. For (1), please define your @tf.function outside of the loop. For (2), @tf.function has experimental_relax_shapes=True option that relaxes argument shapes that can avoid unnecessary retracing. For (3), please refer to https://www.tensorflow.org/guide/function#controlling_retracing and https://www.tensorflow.org/api_docs/python/tf/function for  more details.\n",
            "Downloading data from https://storage.googleapis.com/download.tensorflow.org/data/imagenet_class_index.json\n",
            "40960/35363 [==================================] - 0s 0us/step\n",
            "49152/35363 [=========================================] - 0s 0us/step\n",
            "sh: 1: montage: not found\n",
            "sh: 1: convert: not found\n",
            "sh: 1: convert: not found\n",
            "sh: 1: montage: not found\n",
            "-> graph_tick.jpg\n"
          ]
        }
      ]
    },
    {
      "cell_type": "code",
      "source": [
        "!python render_images.py \\\n",
        "  --input-glob 'outputs/birdhouse_1060/best.npy' \\\n",
        "  --outbase best_1920.jpg \\\n",
        "  --renderer lines1 \\\n",
        "  --size 1920"
      ],
      "metadata": {
        "colab": {
          "base_uri": "https://localhost:8080/"
        },
        "id": "AHXc_Uwc2I3f",
        "outputId": "35b95519-0569-4f40-c342-4d3a823aa3ce"
      },
      "execution_count": 18,
      "outputs": [
        {
          "output_type": "stream",
          "name": "stdout",
          "text": [
            "Loading render function from lines1\n",
            "function loaded.\n",
            "Found 1 files in glob outputs/birdhouse_1060/best.npy\n",
            "Loaded outputs/birdhouse_1060/best.npy: shape (30, 8)\n",
            "outputs/birdhouse_1060/best.npy -> outputs/birdhouse_1060/best_1920.jpg\n"
          ]
        }
      ]
    },
    {
      "cell_type": "code",
      "source": [
        "!python score_images.py \\\n",
        "  --input-glob 'outputs/birdhouse_1060/best_1920.jpg' \\\n",
        "  --train1 train1 \\\n",
        "  --target-class birdhouse \\\n",
        "  --networks standard \\\n",
        "  --do-graphfile"
      ],
      "metadata": {
        "colab": {
          "base_uri": "https://localhost:8080/"
        },
        "id": "olkIG-SE2ggH",
        "outputId": "c9082713-e0cf-4dd2-8439-89afca2e75fe"
      },
      "execution_count": 1,
      "outputs": [
        {
          "output_type": "stream",
          "name": "stdout",
          "text": [
            "python3: can't open file 'score_images.py': [Errno 2] No such file or directory\n"
          ]
        }
      ]
    },
    {
      "cell_type": "code",
      "source": [
        "!pip install tensorflow==2.8.0"
      ],
      "metadata": {
        "colab": {
          "base_uri": "https://localhost:8080/"
        },
        "id": "UgYXS8oy7Eko",
        "outputId": "b206c49e-9873-44e0-ef50-899cffbc4e95"
      },
      "execution_count": 31,
      "outputs": [
        {
          "output_type": "stream",
          "name": "stdout",
          "text": [
            "Looking in indexes: https://pypi.org/simple, https://us-python.pkg.dev/colab-wheels/public/simple/\n",
            "Collecting tensorflow==2.8.0\n",
            "  Downloading https://us-python.pkg.dev/colab-wheels/public/tensorflow/tensorflow-2.8.0%2Bzzzcolab20220506162203-cp37-cp37m-linux_x86_64.whl (668.3 MB)\n",
            "\u001b[K     |████████████████████████████████| 668.3 MB 17 kB/s \n",
            "\u001b[?25hRequirement already satisfied: flatbuffers>=1.12 in /usr/local/lib/python3.7/dist-packages (from tensorflow==2.8.0) (1.12)\n",
            "Requirement already satisfied: protobuf>=3.9.2 in /usr/local/lib/python3.7/dist-packages (from tensorflow==2.8.0) (3.17.3)\n",
            "Requirement already satisfied: gast>=0.2.1 in /usr/local/lib/python3.7/dist-packages (from tensorflow==2.8.0) (0.4.0)\n",
            "Requirement already satisfied: opt-einsum>=2.3.2 in /usr/local/lib/python3.7/dist-packages (from tensorflow==2.8.0) (3.3.0)\n",
            "Requirement already satisfied: termcolor>=1.1.0 in /usr/local/lib/python3.7/dist-packages (from tensorflow==2.8.0) (1.1.0)\n",
            "Collecting tf-estimator-nightly==2.8.0.dev2021122109\n",
            "  Downloading tf_estimator_nightly-2.8.0.dev2021122109-py2.py3-none-any.whl (462 kB)\n",
            "\u001b[K     |████████████████████████████████| 462 kB 26.5 MB/s \n",
            "\u001b[?25hRequirement already satisfied: libclang>=9.0.1 in /usr/local/lib/python3.7/dist-packages (from tensorflow==2.8.0) (14.0.6)\n",
            "Collecting tensorboard<2.9,>=2.8\n",
            "  Downloading tensorboard-2.8.0-py3-none-any.whl (5.8 MB)\n",
            "\u001b[K     |████████████████████████████████| 5.8 MB 60.1 MB/s \n",
            "\u001b[?25hRequirement already satisfied: six>=1.12.0 in /usr/local/lib/python3.7/dist-packages (from tensorflow==2.8.0) (1.15.0)\n",
            "Requirement already satisfied: numpy>=1.20 in /usr/local/lib/python3.7/dist-packages (from tensorflow==2.8.0) (1.21.6)\n",
            "Requirement already satisfied: wrapt>=1.11.0 in /usr/local/lib/python3.7/dist-packages (from tensorflow==2.8.0) (1.14.1)\n",
            "Requirement already satisfied: google-pasta>=0.1.1 in /usr/local/lib/python3.7/dist-packages (from tensorflow==2.8.0) (0.2.0)\n",
            "Requirement already satisfied: astunparse>=1.6.0 in /usr/local/lib/python3.7/dist-packages (from tensorflow==2.8.0) (1.6.3)\n",
            "Requirement already satisfied: grpcio<2.0,>=1.24.3 in /usr/local/lib/python3.7/dist-packages (from tensorflow==2.8.0) (1.47.0)\n",
            "Requirement already satisfied: h5py>=2.9.0 in /usr/local/lib/python3.7/dist-packages (from tensorflow==2.8.0) (3.1.0)\n",
            "Requirement already satisfied: typing-extensions>=3.6.6 in /usr/local/lib/python3.7/dist-packages (from tensorflow==2.8.0) (4.1.1)\n",
            "Requirement already satisfied: keras-preprocessing>=1.1.1 in /usr/local/lib/python3.7/dist-packages (from tensorflow==2.8.0) (1.1.2)\n",
            "Requirement already satisfied: tensorflow-io-gcs-filesystem>=0.23.1 in /usr/local/lib/python3.7/dist-packages (from tensorflow==2.8.0) (0.26.0)\n",
            "Requirement already satisfied: absl-py>=0.4.0 in /usr/local/lib/python3.7/dist-packages (from tensorflow==2.8.0) (1.2.0)\n",
            "Collecting keras<2.9,>=2.8.0rc0\n",
            "  Downloading keras-2.8.0-py2.py3-none-any.whl (1.4 MB)\n",
            "\u001b[K     |████████████████████████████████| 1.4 MB 31.0 MB/s \n",
            "\u001b[?25hRequirement already satisfied: setuptools in /usr/local/lib/python3.7/dist-packages (from tensorflow==2.8.0) (57.4.0)\n",
            "Requirement already satisfied: wheel<1.0,>=0.23.0 in /usr/local/lib/python3.7/dist-packages (from astunparse>=1.6.0->tensorflow==2.8.0) (0.37.1)\n",
            "Requirement already satisfied: cached-property in /usr/local/lib/python3.7/dist-packages (from h5py>=2.9.0->tensorflow==2.8.0) (1.5.2)\n",
            "Requirement already satisfied: werkzeug>=0.11.15 in /usr/local/lib/python3.7/dist-packages (from tensorboard<2.9,>=2.8->tensorflow==2.8.0) (1.0.1)\n",
            "Requirement already satisfied: requests<3,>=2.21.0 in /usr/local/lib/python3.7/dist-packages (from tensorboard<2.9,>=2.8->tensorflow==2.8.0) (2.23.0)\n",
            "Requirement already satisfied: tensorboard-data-server<0.7.0,>=0.6.0 in /usr/local/lib/python3.7/dist-packages (from tensorboard<2.9,>=2.8->tensorflow==2.8.0) (0.6.1)\n",
            "Requirement already satisfied: markdown>=2.6.8 in /usr/local/lib/python3.7/dist-packages (from tensorboard<2.9,>=2.8->tensorflow==2.8.0) (3.4.1)\n",
            "Requirement already satisfied: google-auth<3,>=1.6.3 in /usr/local/lib/python3.7/dist-packages (from tensorboard<2.9,>=2.8->tensorflow==2.8.0) (1.35.0)\n",
            "Requirement already satisfied: tensorboard-plugin-wit>=1.6.0 in /usr/local/lib/python3.7/dist-packages (from tensorboard<2.9,>=2.8->tensorflow==2.8.0) (1.8.1)\n",
            "Requirement already satisfied: google-auth-oauthlib<0.5,>=0.4.1 in /usr/local/lib/python3.7/dist-packages (from tensorboard<2.9,>=2.8->tensorflow==2.8.0) (0.4.6)\n",
            "Requirement already satisfied: cachetools<5.0,>=2.0.0 in /usr/local/lib/python3.7/dist-packages (from google-auth<3,>=1.6.3->tensorboard<2.9,>=2.8->tensorflow==2.8.0) (4.2.4)\n",
            "Requirement already satisfied: pyasn1-modules>=0.2.1 in /usr/local/lib/python3.7/dist-packages (from google-auth<3,>=1.6.3->tensorboard<2.9,>=2.8->tensorflow==2.8.0) (0.2.8)\n",
            "Requirement already satisfied: rsa<5,>=3.1.4 in /usr/local/lib/python3.7/dist-packages (from google-auth<3,>=1.6.3->tensorboard<2.9,>=2.8->tensorflow==2.8.0) (4.9)\n",
            "Requirement already satisfied: requests-oauthlib>=0.7.0 in /usr/local/lib/python3.7/dist-packages (from google-auth-oauthlib<0.5,>=0.4.1->tensorboard<2.9,>=2.8->tensorflow==2.8.0) (1.3.1)\n",
            "Requirement already satisfied: importlib-metadata>=4.4 in /usr/local/lib/python3.7/dist-packages (from markdown>=2.6.8->tensorboard<2.9,>=2.8->tensorflow==2.8.0) (4.12.0)\n",
            "Requirement already satisfied: zipp>=0.5 in /usr/local/lib/python3.7/dist-packages (from importlib-metadata>=4.4->markdown>=2.6.8->tensorboard<2.9,>=2.8->tensorflow==2.8.0) (3.8.1)\n",
            "Requirement already satisfied: pyasn1<0.5.0,>=0.4.6 in /usr/local/lib/python3.7/dist-packages (from pyasn1-modules>=0.2.1->google-auth<3,>=1.6.3->tensorboard<2.9,>=2.8->tensorflow==2.8.0) (0.4.8)\n",
            "Requirement already satisfied: urllib3!=1.25.0,!=1.25.1,<1.26,>=1.21.1 in /usr/local/lib/python3.7/dist-packages (from requests<3,>=2.21.0->tensorboard<2.9,>=2.8->tensorflow==2.8.0) (1.24.3)\n",
            "Requirement already satisfied: idna<3,>=2.5 in /usr/local/lib/python3.7/dist-packages (from requests<3,>=2.21.0->tensorboard<2.9,>=2.8->tensorflow==2.8.0) (2.10)\n",
            "Requirement already satisfied: chardet<4,>=3.0.2 in /usr/local/lib/python3.7/dist-packages (from requests<3,>=2.21.0->tensorboard<2.9,>=2.8->tensorflow==2.8.0) (3.0.4)\n",
            "Requirement already satisfied: certifi>=2017.4.17 in /usr/local/lib/python3.7/dist-packages (from requests<3,>=2.21.0->tensorboard<2.9,>=2.8->tensorflow==2.8.0) (2022.6.15)\n",
            "Requirement already satisfied: oauthlib>=3.0.0 in /usr/local/lib/python3.7/dist-packages (from requests-oauthlib>=0.7.0->google-auth-oauthlib<0.5,>=0.4.1->tensorboard<2.9,>=2.8->tensorflow==2.8.0) (3.2.0)\n",
            "Installing collected packages: tf-estimator-nightly, tensorboard, keras, tensorflow\n",
            "  Attempting uninstall: tensorboard\n",
            "    Found existing installation: tensorboard 2.9.1\n",
            "    Uninstalling tensorboard-2.9.1:\n",
            "      Successfully uninstalled tensorboard-2.9.1\n",
            "  Attempting uninstall: keras\n",
            "    Found existing installation: keras 2.7.0\n",
            "    Uninstalling keras-2.7.0:\n",
            "      Successfully uninstalled keras-2.7.0\n",
            "  Attempting uninstall: tensorflow\n",
            "    Found existing installation: tensorflow 2.7.0+zzzcolab20220506150900\n",
            "    Uninstalling tensorflow-2.7.0+zzzcolab20220506150900:\n",
            "      Successfully uninstalled tensorflow-2.7.0+zzzcolab20220506150900\n",
            "\u001b[31mERROR: pip's dependency resolver does not currently take into account all the packages that are installed. This behaviour is the source of the following dependency conflicts.\n",
            "tensorflow-gpu 2.9.1 requires keras<2.10.0,>=2.9.0rc0, but you have keras 2.8.0 which is incompatible.\n",
            "tensorflow-gpu 2.9.1 requires tensorboard<2.10,>=2.9, but you have tensorboard 2.8.0 which is incompatible.\n",
            "tensorflow-gpu 2.9.1 requires tensorflow-estimator<2.10.0,>=2.9.0rc0, but you have tensorflow-estimator 2.7.0 which is incompatible.\u001b[0m\n",
            "Successfully installed keras-2.8.0 tensorboard-2.8.0 tensorflow-2.8.0+zzzcolab20220506162203 tf-estimator-nightly-2.8.0.dev2021122109\n"
          ]
        }
      ]
    },
    {
      "cell_type": "code",
      "source": [
        "!pip install Pillow\n",
        "!pip install numpy\n",
        "!pip install keras\n",
        "!pip install tensorflow\n",
        "!pip install tensorflow-gpu\n",
        "!pip install scipy\n",
        "!pip install matplotlib\n",
        "!pip install tqdm"
      ],
      "metadata": {
        "colab": {
          "base_uri": "https://localhost:8080/"
        },
        "id": "QiZ8FGwl7GNU",
        "outputId": "ab92ed35-deb5-4ea8-e2a0-217edd23f435"
      },
      "execution_count": 21,
      "outputs": [
        {
          "output_type": "stream",
          "name": "stdout",
          "text": [
            "Looking in indexes: https://pypi.org/simple, https://us-python.pkg.dev/colab-wheels/public/simple/\n",
            "Requirement already satisfied: Pillow in /usr/local/lib/python3.7/dist-packages (7.1.2)\n",
            "Looking in indexes: https://pypi.org/simple, https://us-python.pkg.dev/colab-wheels/public/simple/\n",
            "Requirement already satisfied: numpy in /usr/local/lib/python3.7/dist-packages (1.21.6)\n",
            "Looking in indexes: https://pypi.org/simple, https://us-python.pkg.dev/colab-wheels/public/simple/\n",
            "Requirement already satisfied: keras in /usr/local/lib/python3.7/dist-packages (2.8.0)\n",
            "Looking in indexes: https://pypi.org/simple, https://us-python.pkg.dev/colab-wheels/public/simple/\n",
            "Requirement already satisfied: tensorflow in /usr/local/lib/python3.7/dist-packages (2.8.2+zzzcolab20220719082949)\n",
            "Requirement already satisfied: tensorflow-estimator<2.9,>=2.8 in /usr/local/lib/python3.7/dist-packages (from tensorflow) (2.8.0)\n",
            "Requirement already satisfied: setuptools in /usr/local/lib/python3.7/dist-packages (from tensorflow) (57.4.0)\n",
            "Requirement already satisfied: tensorboard<2.9,>=2.8 in /usr/local/lib/python3.7/dist-packages (from tensorflow) (2.8.0)\n",
            "Requirement already satisfied: astunparse>=1.6.0 in /usr/local/lib/python3.7/dist-packages (from tensorflow) (1.6.3)\n",
            "Requirement already satisfied: flatbuffers>=1.12 in /usr/local/lib/python3.7/dist-packages (from tensorflow) (2.0.7)\n",
            "Requirement already satisfied: keras-preprocessing>=1.1.1 in /usr/local/lib/python3.7/dist-packages (from tensorflow) (1.1.2)\n",
            "Requirement already satisfied: opt-einsum>=2.3.2 in /usr/local/lib/python3.7/dist-packages (from tensorflow) (3.3.0)\n",
            "Requirement already satisfied: termcolor>=1.1.0 in /usr/local/lib/python3.7/dist-packages (from tensorflow) (1.1.0)\n",
            "Requirement already satisfied: keras<2.9,>=2.8.0rc0 in /usr/local/lib/python3.7/dist-packages (from tensorflow) (2.8.0)\n",
            "Requirement already satisfied: absl-py>=0.4.0 in /usr/local/lib/python3.7/dist-packages (from tensorflow) (1.2.0)\n",
            "Requirement already satisfied: google-pasta>=0.1.1 in /usr/local/lib/python3.7/dist-packages (from tensorflow) (0.2.0)\n",
            "Requirement already satisfied: tensorflow-io-gcs-filesystem>=0.23.1 in /usr/local/lib/python3.7/dist-packages (from tensorflow) (0.26.0)\n",
            "Requirement already satisfied: gast>=0.2.1 in /usr/local/lib/python3.7/dist-packages (from tensorflow) (0.5.3)\n",
            "Requirement already satisfied: h5py>=2.9.0 in /usr/local/lib/python3.7/dist-packages (from tensorflow) (3.1.0)\n",
            "Requirement already satisfied: numpy>=1.20 in /usr/local/lib/python3.7/dist-packages (from tensorflow) (1.21.6)\n",
            "Requirement already satisfied: wrapt>=1.11.0 in /usr/local/lib/python3.7/dist-packages (from tensorflow) (1.14.1)\n",
            "Requirement already satisfied: six>=1.12.0 in /usr/local/lib/python3.7/dist-packages (from tensorflow) (1.15.0)\n",
            "Requirement already satisfied: grpcio<2.0,>=1.24.3 in /usr/local/lib/python3.7/dist-packages (from tensorflow) (1.47.0)\n",
            "Requirement already satisfied: typing-extensions>=3.6.6 in /usr/local/lib/python3.7/dist-packages (from tensorflow) (4.1.1)\n",
            "Requirement already satisfied: protobuf<3.20,>=3.9.2 in /usr/local/lib/python3.7/dist-packages (from tensorflow) (3.17.3)\n",
            "Requirement already satisfied: libclang>=9.0.1 in /usr/local/lib/python3.7/dist-packages (from tensorflow) (14.0.6)\n",
            "Requirement already satisfied: wheel<1.0,>=0.23.0 in /usr/local/lib/python3.7/dist-packages (from astunparse>=1.6.0->tensorflow) (0.37.1)\n",
            "Requirement already satisfied: cached-property in /usr/local/lib/python3.7/dist-packages (from h5py>=2.9.0->tensorflow) (1.5.2)\n",
            "Requirement already satisfied: tensorboard-plugin-wit>=1.6.0 in /usr/local/lib/python3.7/dist-packages (from tensorboard<2.9,>=2.8->tensorflow) (1.8.1)\n",
            "Requirement already satisfied: google-auth-oauthlib<0.5,>=0.4.1 in /usr/local/lib/python3.7/dist-packages (from tensorboard<2.9,>=2.8->tensorflow) (0.4.6)\n",
            "Requirement already satisfied: google-auth<3,>=1.6.3 in /usr/local/lib/python3.7/dist-packages (from tensorboard<2.9,>=2.8->tensorflow) (1.35.0)\n",
            "Requirement already satisfied: requests<3,>=2.21.0 in /usr/local/lib/python3.7/dist-packages (from tensorboard<2.9,>=2.8->tensorflow) (2.23.0)\n",
            "Requirement already satisfied: werkzeug>=0.11.15 in /usr/local/lib/python3.7/dist-packages (from tensorboard<2.9,>=2.8->tensorflow) (1.0.1)\n",
            "Requirement already satisfied: markdown>=2.6.8 in /usr/local/lib/python3.7/dist-packages (from tensorboard<2.9,>=2.8->tensorflow) (3.4.1)\n",
            "Requirement already satisfied: tensorboard-data-server<0.7.0,>=0.6.0 in /usr/local/lib/python3.7/dist-packages (from tensorboard<2.9,>=2.8->tensorflow) (0.6.1)\n",
            "Requirement already satisfied: cachetools<5.0,>=2.0.0 in /usr/local/lib/python3.7/dist-packages (from google-auth<3,>=1.6.3->tensorboard<2.9,>=2.8->tensorflow) (4.2.4)\n",
            "Requirement already satisfied: rsa<5,>=3.1.4 in /usr/local/lib/python3.7/dist-packages (from google-auth<3,>=1.6.3->tensorboard<2.9,>=2.8->tensorflow) (4.9)\n",
            "Requirement already satisfied: pyasn1-modules>=0.2.1 in /usr/local/lib/python3.7/dist-packages (from google-auth<3,>=1.6.3->tensorboard<2.9,>=2.8->tensorflow) (0.2.8)\n",
            "Requirement already satisfied: requests-oauthlib>=0.7.0 in /usr/local/lib/python3.7/dist-packages (from google-auth-oauthlib<0.5,>=0.4.1->tensorboard<2.9,>=2.8->tensorflow) (1.3.1)\n",
            "Requirement already satisfied: importlib-metadata>=4.4 in /usr/local/lib/python3.7/dist-packages (from markdown>=2.6.8->tensorboard<2.9,>=2.8->tensorflow) (4.12.0)\n",
            "Requirement already satisfied: zipp>=0.5 in /usr/local/lib/python3.7/dist-packages (from importlib-metadata>=4.4->markdown>=2.6.8->tensorboard<2.9,>=2.8->tensorflow) (3.8.1)\n",
            "Requirement already satisfied: pyasn1<0.5.0,>=0.4.6 in /usr/local/lib/python3.7/dist-packages (from pyasn1-modules>=0.2.1->google-auth<3,>=1.6.3->tensorboard<2.9,>=2.8->tensorflow) (0.4.8)\n",
            "Requirement already satisfied: idna<3,>=2.5 in /usr/local/lib/python3.7/dist-packages (from requests<3,>=2.21.0->tensorboard<2.9,>=2.8->tensorflow) (2.10)\n",
            "Requirement already satisfied: chardet<4,>=3.0.2 in /usr/local/lib/python3.7/dist-packages (from requests<3,>=2.21.0->tensorboard<2.9,>=2.8->tensorflow) (3.0.4)\n",
            "Requirement already satisfied: urllib3!=1.25.0,!=1.25.1,<1.26,>=1.21.1 in /usr/local/lib/python3.7/dist-packages (from requests<3,>=2.21.0->tensorboard<2.9,>=2.8->tensorflow) (1.24.3)\n",
            "Requirement already satisfied: certifi>=2017.4.17 in /usr/local/lib/python3.7/dist-packages (from requests<3,>=2.21.0->tensorboard<2.9,>=2.8->tensorflow) (2022.6.15)\n",
            "Requirement already satisfied: oauthlib>=3.0.0 in /usr/local/lib/python3.7/dist-packages (from requests-oauthlib>=0.7.0->google-auth-oauthlib<0.5,>=0.4.1->tensorboard<2.9,>=2.8->tensorflow) (3.2.0)\n",
            "Looking in indexes: https://pypi.org/simple, https://us-python.pkg.dev/colab-wheels/public/simple/\n",
            "Collecting tensorflow-gpu\n",
            "  Downloading tensorflow_gpu-2.9.1-cp37-cp37m-manylinux_2_17_x86_64.manylinux2014_x86_64.whl (511.7 MB)\n",
            "\u001b[K     |████████████████████████████████| 511.7 MB 6.0 kB/s \n",
            "\u001b[?25hCollecting flatbuffers<2,>=1.12\n",
            "  Downloading flatbuffers-1.12-py2.py3-none-any.whl (15 kB)\n",
            "Collecting tensorboard<2.10,>=2.9\n",
            "  Downloading tensorboard-2.9.1-py3-none-any.whl (5.8 MB)\n",
            "\u001b[K     |████████████████████████████████| 5.8 MB 45.2 MB/s \n",
            "\u001b[?25hRequirement already satisfied: libclang>=13.0.0 in /usr/local/lib/python3.7/dist-packages (from tensorflow-gpu) (14.0.6)\n",
            "Collecting keras<2.10.0,>=2.9.0rc0\n",
            "  Downloading keras-2.9.0-py2.py3-none-any.whl (1.6 MB)\n",
            "\u001b[K     |████████████████████████████████| 1.6 MB 60.7 MB/s \n",
            "\u001b[?25hCollecting tensorflow-estimator<2.10.0,>=2.9.0rc0\n",
            "  Downloading tensorflow_estimator-2.9.0-py2.py3-none-any.whl (438 kB)\n",
            "\u001b[K     |████████████████████████████████| 438 kB 68.8 MB/s \n",
            "\u001b[?25hRequirement already satisfied: wrapt>=1.11.0 in /usr/local/lib/python3.7/dist-packages (from tensorflow-gpu) (1.14.1)\n",
            "Requirement already satisfied: absl-py>=1.0.0 in /usr/local/lib/python3.7/dist-packages (from tensorflow-gpu) (1.2.0)\n",
            "Requirement already satisfied: astunparse>=1.6.0 in /usr/local/lib/python3.7/dist-packages (from tensorflow-gpu) (1.6.3)\n",
            "Requirement already satisfied: setuptools in /usr/local/lib/python3.7/dist-packages (from tensorflow-gpu) (57.4.0)\n",
            "Requirement already satisfied: numpy>=1.20 in /usr/local/lib/python3.7/dist-packages (from tensorflow-gpu) (1.21.6)\n",
            "Requirement already satisfied: keras-preprocessing>=1.1.1 in /usr/local/lib/python3.7/dist-packages (from tensorflow-gpu) (1.1.2)\n",
            "Requirement already satisfied: packaging in /usr/local/lib/python3.7/dist-packages (from tensorflow-gpu) (21.3)\n",
            "Requirement already satisfied: six>=1.12.0 in /usr/local/lib/python3.7/dist-packages (from tensorflow-gpu) (1.15.0)\n",
            "Requirement already satisfied: typing-extensions>=3.6.6 in /usr/local/lib/python3.7/dist-packages (from tensorflow-gpu) (4.1.1)\n",
            "Requirement already satisfied: grpcio<2.0,>=1.24.3 in /usr/local/lib/python3.7/dist-packages (from tensorflow-gpu) (1.47.0)\n",
            "Requirement already satisfied: tensorflow-io-gcs-filesystem>=0.23.1 in /usr/local/lib/python3.7/dist-packages (from tensorflow-gpu) (0.26.0)\n",
            "Requirement already satisfied: google-pasta>=0.1.1 in /usr/local/lib/python3.7/dist-packages (from tensorflow-gpu) (0.2.0)\n",
            "Collecting gast<=0.4.0,>=0.2.1\n",
            "  Downloading gast-0.4.0-py3-none-any.whl (9.8 kB)\n",
            "Requirement already satisfied: protobuf<3.20,>=3.9.2 in /usr/local/lib/python3.7/dist-packages (from tensorflow-gpu) (3.17.3)\n",
            "Requirement already satisfied: opt-einsum>=2.3.2 in /usr/local/lib/python3.7/dist-packages (from tensorflow-gpu) (3.3.0)\n",
            "Requirement already satisfied: h5py>=2.9.0 in /usr/local/lib/python3.7/dist-packages (from tensorflow-gpu) (3.1.0)\n",
            "Requirement already satisfied: termcolor>=1.1.0 in /usr/local/lib/python3.7/dist-packages (from tensorflow-gpu) (1.1.0)\n",
            "Requirement already satisfied: wheel<1.0,>=0.23.0 in /usr/local/lib/python3.7/dist-packages (from astunparse>=1.6.0->tensorflow-gpu) (0.37.1)\n",
            "Requirement already satisfied: cached-property in /usr/local/lib/python3.7/dist-packages (from h5py>=2.9.0->tensorflow-gpu) (1.5.2)\n",
            "Requirement already satisfied: google-auth<3,>=1.6.3 in /usr/local/lib/python3.7/dist-packages (from tensorboard<2.10,>=2.9->tensorflow-gpu) (1.35.0)\n",
            "Requirement already satisfied: google-auth-oauthlib<0.5,>=0.4.1 in /usr/local/lib/python3.7/dist-packages (from tensorboard<2.10,>=2.9->tensorflow-gpu) (0.4.6)\n",
            "Requirement already satisfied: tensorboard-data-server<0.7.0,>=0.6.0 in /usr/local/lib/python3.7/dist-packages (from tensorboard<2.10,>=2.9->tensorflow-gpu) (0.6.1)\n",
            "Requirement already satisfied: requests<3,>=2.21.0 in /usr/local/lib/python3.7/dist-packages (from tensorboard<2.10,>=2.9->tensorflow-gpu) (2.23.0)\n",
            "Requirement already satisfied: werkzeug>=1.0.1 in /usr/local/lib/python3.7/dist-packages (from tensorboard<2.10,>=2.9->tensorflow-gpu) (1.0.1)\n",
            "Requirement already satisfied: markdown>=2.6.8 in /usr/local/lib/python3.7/dist-packages (from tensorboard<2.10,>=2.9->tensorflow-gpu) (3.4.1)\n",
            "Requirement already satisfied: tensorboard-plugin-wit>=1.6.0 in /usr/local/lib/python3.7/dist-packages (from tensorboard<2.10,>=2.9->tensorflow-gpu) (1.8.1)\n",
            "Requirement already satisfied: pyasn1-modules>=0.2.1 in /usr/local/lib/python3.7/dist-packages (from google-auth<3,>=1.6.3->tensorboard<2.10,>=2.9->tensorflow-gpu) (0.2.8)\n",
            "Requirement already satisfied: rsa<5,>=3.1.4 in /usr/local/lib/python3.7/dist-packages (from google-auth<3,>=1.6.3->tensorboard<2.10,>=2.9->tensorflow-gpu) (4.9)\n",
            "Requirement already satisfied: cachetools<5.0,>=2.0.0 in /usr/local/lib/python3.7/dist-packages (from google-auth<3,>=1.6.3->tensorboard<2.10,>=2.9->tensorflow-gpu) (4.2.4)\n",
            "Requirement already satisfied: requests-oauthlib>=0.7.0 in /usr/local/lib/python3.7/dist-packages (from google-auth-oauthlib<0.5,>=0.4.1->tensorboard<2.10,>=2.9->tensorflow-gpu) (1.3.1)\n",
            "Requirement already satisfied: importlib-metadata>=4.4 in /usr/local/lib/python3.7/dist-packages (from markdown>=2.6.8->tensorboard<2.10,>=2.9->tensorflow-gpu) (4.12.0)\n",
            "Requirement already satisfied: zipp>=0.5 in /usr/local/lib/python3.7/dist-packages (from importlib-metadata>=4.4->markdown>=2.6.8->tensorboard<2.10,>=2.9->tensorflow-gpu) (3.8.1)\n",
            "Requirement already satisfied: pyasn1<0.5.0,>=0.4.6 in /usr/local/lib/python3.7/dist-packages (from pyasn1-modules>=0.2.1->google-auth<3,>=1.6.3->tensorboard<2.10,>=2.9->tensorflow-gpu) (0.4.8)\n",
            "Requirement already satisfied: urllib3!=1.25.0,!=1.25.1,<1.26,>=1.21.1 in /usr/local/lib/python3.7/dist-packages (from requests<3,>=2.21.0->tensorboard<2.10,>=2.9->tensorflow-gpu) (1.24.3)\n",
            "Requirement already satisfied: certifi>=2017.4.17 in /usr/local/lib/python3.7/dist-packages (from requests<3,>=2.21.0->tensorboard<2.10,>=2.9->tensorflow-gpu) (2022.6.15)\n",
            "Requirement already satisfied: idna<3,>=2.5 in /usr/local/lib/python3.7/dist-packages (from requests<3,>=2.21.0->tensorboard<2.10,>=2.9->tensorflow-gpu) (2.10)\n",
            "Requirement already satisfied: chardet<4,>=3.0.2 in /usr/local/lib/python3.7/dist-packages (from requests<3,>=2.21.0->tensorboard<2.10,>=2.9->tensorflow-gpu) (3.0.4)\n",
            "Requirement already satisfied: oauthlib>=3.0.0 in /usr/local/lib/python3.7/dist-packages (from requests-oauthlib>=0.7.0->google-auth-oauthlib<0.5,>=0.4.1->tensorboard<2.10,>=2.9->tensorflow-gpu) (3.2.0)\n",
            "Requirement already satisfied: pyparsing!=3.0.5,>=2.0.2 in /usr/local/lib/python3.7/dist-packages (from packaging->tensorflow-gpu) (3.0.9)\n",
            "Installing collected packages: tensorflow-estimator, tensorboard, keras, gast, flatbuffers, tensorflow-gpu\n",
            "  Attempting uninstall: tensorflow-estimator\n",
            "    Found existing installation: tensorflow-estimator 2.8.0\n",
            "    Uninstalling tensorflow-estimator-2.8.0:\n",
            "      Successfully uninstalled tensorflow-estimator-2.8.0\n",
            "  Attempting uninstall: tensorboard\n",
            "    Found existing installation: tensorboard 2.8.0\n",
            "    Uninstalling tensorboard-2.8.0:\n",
            "      Successfully uninstalled tensorboard-2.8.0\n",
            "  Attempting uninstall: keras\n",
            "    Found existing installation: keras 2.8.0\n",
            "    Uninstalling keras-2.8.0:\n",
            "      Successfully uninstalled keras-2.8.0\n",
            "  Attempting uninstall: gast\n",
            "    Found existing installation: gast 0.5.3\n",
            "    Uninstalling gast-0.5.3:\n",
            "      Successfully uninstalled gast-0.5.3\n",
            "  Attempting uninstall: flatbuffers\n",
            "    Found existing installation: flatbuffers 2.0.7\n",
            "    Uninstalling flatbuffers-2.0.7:\n",
            "      Successfully uninstalled flatbuffers-2.0.7\n",
            "\u001b[31mERROR: pip's dependency resolver does not currently take into account all the packages that are installed. This behaviour is the source of the following dependency conflicts.\n",
            "tensorflow 2.8.2+zzzcolab20220719082949 requires keras<2.9,>=2.8.0rc0, but you have keras 2.9.0 which is incompatible.\n",
            "tensorflow 2.8.2+zzzcolab20220719082949 requires tensorboard<2.9,>=2.8, but you have tensorboard 2.9.1 which is incompatible.\n",
            "tensorflow 2.8.2+zzzcolab20220719082949 requires tensorflow-estimator<2.9,>=2.8, but you have tensorflow-estimator 2.9.0 which is incompatible.\u001b[0m\n",
            "Successfully installed flatbuffers-1.12 gast-0.4.0 keras-2.9.0 tensorboard-2.9.1 tensorflow-estimator-2.9.0 tensorflow-gpu-2.9.1\n",
            "Looking in indexes: https://pypi.org/simple, https://us-python.pkg.dev/colab-wheels/public/simple/\n",
            "Requirement already satisfied: scipy in /usr/local/lib/python3.7/dist-packages (1.7.3)\n",
            "Requirement already satisfied: numpy<1.23.0,>=1.16.5 in /usr/local/lib/python3.7/dist-packages (from scipy) (1.21.6)\n",
            "Looking in indexes: https://pypi.org/simple, https://us-python.pkg.dev/colab-wheels/public/simple/\n",
            "Requirement already satisfied: matplotlib in /usr/local/lib/python3.7/dist-packages (3.2.2)\n",
            "Requirement already satisfied: numpy>=1.11 in /usr/local/lib/python3.7/dist-packages (from matplotlib) (1.21.6)\n",
            "Requirement already satisfied: kiwisolver>=1.0.1 in /usr/local/lib/python3.7/dist-packages (from matplotlib) (1.4.4)\n",
            "Requirement already satisfied: python-dateutil>=2.1 in /usr/local/lib/python3.7/dist-packages (from matplotlib) (2.8.2)\n",
            "Requirement already satisfied: cycler>=0.10 in /usr/local/lib/python3.7/dist-packages (from matplotlib) (0.11.0)\n",
            "Requirement already satisfied: pyparsing!=2.0.4,!=2.1.2,!=2.1.6,>=2.0.1 in /usr/local/lib/python3.7/dist-packages (from matplotlib) (3.0.9)\n",
            "Requirement already satisfied: typing-extensions in /usr/local/lib/python3.7/dist-packages (from kiwisolver>=1.0.1->matplotlib) (4.1.1)\n",
            "Requirement already satisfied: six>=1.5 in /usr/local/lib/python3.7/dist-packages (from python-dateutil>=2.1->matplotlib) (1.15.0)\n",
            "Looking in indexes: https://pypi.org/simple, https://us-python.pkg.dev/colab-wheels/public/simple/\n",
            "Requirement already satisfied: tqdm in /usr/local/lib/python3.7/dist-packages (4.64.0)\n"
          ]
        }
      ]
    },
    {
      "cell_type": "code",
      "source": [
        "!git clone https://github.com/pankajtakawale/perceptionengines.git"
      ],
      "metadata": {
        "colab": {
          "base_uri": "https://localhost:8080/"
        },
        "id": "ioRSeSYvtCPX",
        "outputId": "8c3bdfe6-4a14-4f96-9265-9599786b9050"
      },
      "execution_count": 1,
      "outputs": [
        {
          "output_type": "stream",
          "name": "stdout",
          "text": [
            "Cloning into 'perceptionengines'...\n",
            "remote: Enumerating objects: 157, done.\u001b[K\n",
            "remote: Counting objects: 100% (39/39), done.\u001b[K\n",
            "remote: Compressing objects: 100% (18/18), done.\u001b[K\n",
            "remote: Total 157 (delta 25), reused 29 (delta 21), pack-reused 118\u001b[K\n",
            "Receiving objects: 100% (157/157), 217.40 KiB | 24.16 MiB/s, done.\n",
            "Resolving deltas: 100% (93/93), done.\n"
          ]
        }
      ]
    },
    {
      "cell_type": "code",
      "source": [
        "!cd perceptionengines/\n",
        "!git status"
      ],
      "metadata": {
        "colab": {
          "base_uri": "https://localhost:8080/"
        },
        "id": "W3Ci5suPqu69",
        "outputId": "a4b528b2-ffad-4261-bc12-1038a7afe6f0"
      },
      "execution_count": 29,
      "outputs": [
        {
          "output_type": "stream",
          "name": "stdout",
          "text": [
            "fatal: not a git repository (or any of the parent directories): .git\n"
          ]
        }
      ]
    },
    {
      "cell_type": "code",
      "execution_count": null,
      "metadata": {
        "colab": {
          "base_uri": "https://localhost:8080/"
        },
        "id": "l5bumVDtT9-n",
        "outputId": "af94d213-dad0-4d58-f40a-16f771488669"
      },
      "outputs": [
        {
          "name": "stdout",
          "output_type": "stream",
          "text": [
            "Looking in indexes: https://pypi.org/simple, https://us-python.pkg.dev/colab-wheels/public/simple/\n",
            "Requirement already satisfied: keras in /usr/local/lib/python3.7/dist-packages (2.8.0)\n"
          ]
        }
      ],
      "source": [
        "!pip install keras"
      ]
    },
    {
      "cell_type": "markdown",
      "metadata": {
        "id": "BjxYTGbKMvA4"
      },
      "source": []
    },
    {
      "cell_type": "markdown",
      "metadata": {
        "id": "4cqC4sJPLl1z"
      },
      "source": [
        "# New Section"
      ]
    },
    {
      "cell_type": "code",
      "execution_count": 8,
      "metadata": {
        "colab": {
          "base_uri": "https://localhost:8080/"
        },
        "id": "wlnwXhF58cak",
        "outputId": "40e1ffa7-0eb6-47cc-c6fc-a99a28254cfe"
      },
      "outputs": [
        {
          "output_type": "stream",
          "name": "stdout",
          "text": [
            "Looking in indexes: https://pypi.org/simple, https://us-python.pkg.dev/colab-wheels/public/simple/\n",
            "Collecting braceexpand\n",
            "  Downloading braceexpand-0.1.7-py2.py3-none-any.whl (5.9 kB)\n",
            "Installing collected packages: braceexpand\n",
            "Successfully installed braceexpand-0.1.7\n"
          ]
        }
      ],
      "source": [
        "!pip install braceexpand"
      ]
    }
  ],
  "metadata": {
    "colab": {
      "name": "runningperceptionengine.ipynb",
      "provenance": [],
      "authorship_tag": "ABX9TyOlF42kUBm+qHf8hRNkaQcT",
      "include_colab_link": true
    },
    "kernelspec": {
      "display_name": "Python 3",
      "name": "python3"
    },
    "language_info": {
      "name": "python"
    },
    "accelerator": "GPU",
    "gpuClass": "standard"
  },
  "nbformat": 4,
  "nbformat_minor": 0
}