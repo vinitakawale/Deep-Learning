{
  "cells": [
    {
      "cell_type": "markdown",
      "metadata": {
        "id": "view-in-github",
        "colab_type": "text"
      },
      "source": [
        "<a href=\"https://colab.research.google.com/github/vinitakawale/Deep-Learning/blob/main/train.ipynb\" target=\"_parent\"><img src=\"https://colab.research.google.com/assets/colab-badge.svg\" alt=\"Open In Colab\"/></a>"
      ]
    },
    {
      "cell_type": "code",
      "execution_count": null,
      "metadata": {
        "colab": {
          "base_uri": "https://localhost:8080/"
        },
        "id": "ofXUX917fgoy",
        "outputId": "5b46e58a-43b8-43de-dd0d-d98ed6f54ee1"
      },
      "outputs": [
        {
          "name": "stdout",
          "output_type": "stream",
          "text": [
            "Cloning into 'FUnIE-GAN'...\n",
            "remote: Enumerating objects: 1088, done.\u001b[K\n",
            "remote: Counting objects: 100% (34/34), done.\u001b[K\n",
            "remote: Compressing objects: 100% (24/24), done.\u001b[K\n",
            "remote: Total 1088 (delta 14), reused 24 (delta 10), pack-reused 1054\u001b[K\n",
            "Receiving objects: 100% (1088/1088), 126.27 MiB | 21.72 MiB/s, done.\n",
            "Resolving deltas: 100% (616/616), done.\n"
          ]
        }
      ],
      "source": [
        "!git clone https://github.com/xahidbuffon/FUnIE-GAN.git"
      ]
    },
    {
      "cell_type": "code",
      "execution_count": null,
      "metadata": {
        "colab": {
          "base_uri": "https://localhost:8080/"
        },
        "id": "qeFSfL_7lmOp",
        "outputId": "d9a48ed1-bd34-4570-b282-9aa61bcb5a19"
      },
      "outputs": [
        {
          "name": "stdout",
          "output_type": "stream",
          "text": [
            "/content/FUnIE-GAN\n",
            "/content/FUnIE-GAN/PyTorch\n"
          ]
        }
      ],
      "source": [
        "%cd FUnIE-GAN\n",
        "%cd PyTorch/"
      ]
    },
    {
      "cell_type": "code",
      "execution_count": null,
      "metadata": {
        "id": "TI6v9_FotvLg"
      },
      "outputs": [],
      "source": [
        "# py libs\n",
        "import os\n",
        "import sys\n",
        "import yaml\n",
        "import argparse\n",
        "import numpy as np\n",
        "from PIL import Image"
      ]
    },
    {
      "cell_type": "code",
      "execution_count": null,
      "metadata": {
        "id": "fjj5s-3s3pcF"
      },
      "outputs": [],
      "source": [
        "# pytorch libs\n",
        "import torch\n",
        "import torch.nn as nn\n",
        "import torch.nn.functional as F\n",
        "from torchvision import datasets\n",
        "from torchvision.utils import save_image\n",
        "from torch.utils.data import DataLoader\n",
        "from torch.autograd import Variable\n",
        "import torchvision.transforms as transforms"
      ]
    },
    {
      "cell_type": "code",
      "execution_count": null,
      "metadata": {
        "id": "OYT5AfbS3u4x"
      },
      "outputs": [],
      "source": [
        "# local libs\n",
        "from nets.commons import Weights_Normal, VGG19_PercepLoss\n",
        "from nets.funiegan import GeneratorFunieGAN, DiscriminatorFunieGAN\n",
        "from utils.data_utils import GetTrainingPairs, GetValImage"
      ]
    },
    {
      "cell_type": "code",
      "execution_count": null,
      "metadata": {
        "colab": {
          "base_uri": "https://localhost:8080/"
        },
        "id": "ZvGaXjcZzpg2",
        "outputId": "fad5c4e9-885a-443c-d23a-621de416d2c1"
      },
      "outputs": [
        {
          "name": "stdout",
          "output_type": "stream",
          "text": [
            "Mounted at /content/drive\n"
          ]
        },
        {
          "data": {
            "text/plain": [
              "['EUVP Dataset']"
            ]
          },
          "execution_count": 7,
          "metadata": {},
          "output_type": "execute_result"
        }
      ],
      "source": [
        "from google.colab import drive\n",
        "drive.mount('/content/drive', force_remount=True)\n",
        "my_path = \"/EVPData\" # Your path\n",
        "gdrive_path = \"/content/drive\" + \"/My Drive\" + my_path\n",
        "os.listdir(gdrive_path)"
      ]
    },
    {
      "cell_type": "code",
      "execution_count": null,
      "metadata": {
        "id": "HI0M6FcH3zog"
      },
      "outputs": [],
      "source": [
        "from torch.nn.parameter import Parameter\n",
        "## get configs and training options\n",
        "\n",
        "args = {'cfg_file': 'configs/train_euvp.yaml', \n",
        "         'epoch': 0, \n",
        "         'num_epochs': 201, \n",
        "         'batch_size': 8, \n",
        "         'lr': 0.003,\n",
        "         'b1': 0.5,\n",
        "         'b2': 0.99 }"
      ]
    },
    {
      "cell_type": "code",
      "execution_count": null,
      "metadata": {
        "colab": {
          "base_uri": "https://localhost:8080/",
          "height": 35
        },
        "id": "9BI5ZnNZHLIV",
        "outputId": "7e9d2af6-9853-47e1-e803-2813c4436803"
      },
      "outputs": [
        {
          "data": {
            "application/vnd.google.colaboratory.intrinsic+json": {
              "type": "string"
            },
            "text/plain": [
              "'/content/FUnIE-GAN/PyTorch/FUnIE-GAN/PyTorch/FUnIE-GAN/PyTorch'"
            ]
          },
          "execution_count": 68,
          "metadata": {},
          "output_type": "execute_result"
        }
      ],
      "source": [
        "%pwd"
      ]
    },
    {
      "cell_type": "code",
      "execution_count": null,
      "metadata": {
        "id": "QpJQ2G4d9t1t"
      },
      "outputs": [],
      "source": [
        "## training params\n",
        "epoch = args[\"epoch\"]\n",
        "num_epochs = args[\"num_epochs\"]\n",
        "batch_size =  args[\"batch_size\"]\n",
        "lr_rate, lr_b1, lr_b2 = args[\"lr\"], args[\"b1\"], args[\"b2\"] \n",
        "# load the data config file\n",
        "with open(args[\"cfg_file\"]) as f:\n",
        "    cfg = yaml.load(f, Loader=yaml.FullLoader)\n",
        "# get info from config file\n",
        "dataset_name = cfg[\"dataset_name\"] \n",
        "dataset_path = \"/content/drive/My Drive/EVPData/EUVP Dataset/Paired/\"\n",
        "channels = cfg[\"chans\"]\n",
        "img_width = cfg[\"im_width\"]\n",
        "img_height = cfg[\"im_height\"] \n",
        "val_interval = cfg[\"val_interval\"]\n",
        "ckpt_interval = cfg[\"ckpt_interval\"]\n"
      ]
    },
    {
      "cell_type": "code",
      "execution_count": null,
      "metadata": {
        "id": "4-mQL-PjtkR7"
      },
      "outputs": [],
      "source": [
        "## create dir for model and validation data\n",
        "samples_dir = os.path.join(\"samples/FunieGAN/\", dataset_name)\n",
        "checkpoint_dir = os.path.join(\"checkpoints/FunieGAN/\", dataset_name)\n",
        "os.makedirs(samples_dir, exist_ok=True)\n",
        "os.makedirs(checkpoint_dir, exist_ok=True)"
      ]
    },
    {
      "cell_type": "code",
      "execution_count": null,
      "metadata": {
        "colab": {
          "base_uri": "https://localhost:8080/",
          "height": 158,
          "referenced_widgets": [
            "7b5bb442942242d3943bdbce76c5fa9f",
            "7bcab517b0b9461fbad76188d752282b",
            "9303995244564596a47720e6c6d527c8",
            "f40b6a9c05e84613b8fc29d9caed7da5",
            "88023fa45e054a94a71b5e44d5ca748a",
            "b3ae8260d29a43ddad362deb817c97f2",
            "8757421ff7e443d5b5e0fbd42f9d9fc4",
            "0b88b829d4854a6ba8544fcdafe2f2d9",
            "146e52b027be499a919a0b79102f725e",
            "ce124bbe57b842f1be34713fce9c804c",
            "ce609c8c72ca4dceba74d87e498fec58"
          ]
        },
        "id": "ycZopPjStuKI",
        "outputId": "160287b7-e10d-4eb8-d643-2a66a86aef80"
      },
      "outputs": [
        {
          "name": "stderr",
          "output_type": "stream",
          "text": [
            "/usr/local/lib/python3.8/dist-packages/torchvision/models/_utils.py:208: UserWarning: The parameter 'pretrained' is deprecated since 0.13 and will be removed in 0.15, please use 'weights' instead.\n",
            "  warnings.warn(\n",
            "/usr/local/lib/python3.8/dist-packages/torchvision/models/_utils.py:223: UserWarning: Arguments other than a weight enum or `None` for 'weights' are deprecated since 0.13 and will be removed in 0.15. The current behavior is equivalent to passing `weights=VGG19_Weights.IMAGENET1K_V1`. You can also use `weights=VGG19_Weights.DEFAULT` to get the most up-to-date weights.\n",
            "  warnings.warn(msg)\n",
            "Downloading: \"https://download.pytorch.org/models/vgg19-dcbb9e9d.pth\" to /root/.cache/torch/hub/checkpoints/vgg19-dcbb9e9d.pth\n"
          ]
        },
        {
          "data": {
            "application/vnd.jupyter.widget-view+json": {
              "model_id": "7b5bb442942242d3943bdbce76c5fa9f",
              "version_major": 2,
              "version_minor": 0
            },
            "text/plain": [
              "  0%|          | 0.00/548M [00:00<?, ?B/s]"
            ]
          },
          "metadata": {},
          "output_type": "display_data"
        }
      ],
      "source": [
        "\"\"\" FunieGAN specifics: loss functions and patch-size\n",
        "-----------------------------------------------------\"\"\"\n",
        "Adv_cGAN = torch.nn.MSELoss()\n",
        "L1_G  = torch.nn.L1Loss() # similarity loss (l1)\n",
        "L_vgg = VGG19_PercepLoss() # content loss (vgg)\n",
        "lambda_1, lambda_con = 7, 3 # 7:3 (as in paper)\n",
        "patch = (1, img_height//16, img_width//16) # 16x16 for 256x256"
      ]
    },
    {
      "cell_type": "code",
      "execution_count": null,
      "metadata": {
        "id": "Aw9OxEictxEP"
      },
      "outputs": [],
      "source": [
        "# Initialize generator and discriminator\n",
        "generator = GeneratorFunieGAN()\n",
        "discriminator = DiscriminatorFunieGAN()"
      ]
    },
    {
      "cell_type": "code",
      "execution_count": null,
      "metadata": {
        "id": "kG3_5PQvt0jE"
      },
      "outputs": [],
      "source": [
        "# see if cuda is available\n",
        "if torch.cuda.is_available():\n",
        "    generator = generator.cuda()\n",
        "    discriminator = discriminator.cuda()\n",
        "    Adv_cGAN.cuda()\n",
        "    L1_G = L1_G.cuda()\n",
        "    L_vgg = L_vgg.cuda()\n",
        "    Tensor = torch.cuda.FloatTensor\n",
        "else:\n",
        "    Tensor = torch.FloatTensor"
      ]
    },
    {
      "cell_type": "code",
      "execution_count": null,
      "metadata": {
        "id": "hH66wXbut5AC"
      },
      "outputs": [],
      "source": [
        "# Initialize weights or load pretrained models\n",
        "if args[\"epoch\"] == 0:\n",
        "    generator.apply(Weights_Normal)\n",
        "    discriminator.apply(Weights_Normal)\n",
        "else:\n",
        "    generator.load_state_dict(torch.load(\"checkpoints/FunieGAN/%s/generator_%d.pth\" % (dataset_name, args.epoch)))\n",
        "    discriminator.load_state_dict(torch.load(\"checkpoints/FunieGAN/%s/discriminator_%d.pth\" % (dataset_name, epoch)))\n",
        "    print (\"Loaded model from epoch %d\" %(epoch))\n"
      ]
    },
    {
      "cell_type": "code",
      "execution_count": null,
      "metadata": {
        "id": "3lfHtVFYt_wg"
      },
      "outputs": [],
      "source": [
        "# Optimizers\n",
        "optimizer_G = torch.optim.Adam(generator.parameters(), lr=lr_rate, betas=(lr_b1, lr_b2))\n",
        "optimizer_D = torch.optim.Adam(discriminator.parameters(), lr=lr_rate, betas=(lr_b1, lr_b2))\n"
      ]
    },
    {
      "cell_type": "code",
      "execution_count": null,
      "metadata": {
        "colab": {
          "base_uri": "https://localhost:8080/",
          "height": 35
        },
        "id": "402_a8xbFGG_",
        "outputId": "b854edcd-958b-4836-e161-4a4524081ca2"
      },
      "outputs": [
        {
          "data": {
            "application/vnd.google.colaboratory.intrinsic+json": {
              "type": "string"
            },
            "text/plain": [
              "'/content/FUnIE-GAN/PyTorch/FUnIE-GAN/PyTorch/FUnIE-GAN/PyTorch'"
            ]
          },
          "execution_count": 64,
          "metadata": {},
          "output_type": "execute_result"
        }
      ],
      "source": [
        "%pwd"
      ]
    },
    {
      "cell_type": "code",
      "execution_count": null,
      "metadata": {
        "colab": {
          "base_uri": "https://localhost:8080/"
        },
        "id": "ukITm9Q7uF0B",
        "outputId": "ea00542d-55db-4d55-8b98-e589f043ed9b"
      },
      "outputs": [
        {
          "name": "stderr",
          "output_type": "stream",
          "text": [
            "/usr/local/lib/python3.8/dist-packages/torchvision/transforms/transforms.py:332: UserWarning: Argument 'interpolation' of type int is deprecated since 0.13 and will be removed in 0.15. Please use InterpolationMode enum.\n",
            "  warnings.warn(\n"
          ]
        },
        {
          "name": "stdout",
          "output_type": "stream",
          "text": [
            "/content/drive/My Drive/EVPData/EUVP Dataset/Paired/\n"
          ]
        },
        {
          "name": "stderr",
          "output_type": "stream",
          "text": [
            "/usr/local/lib/python3.8/dist-packages/torch/utils/data/dataloader.py:563: UserWarning: This DataLoader will create 8 worker processes in total. Our suggested max number of worker in current system is 2, which is smaller than what this DataLoader is going to create. Please be aware that excessive worker creation might get DataLoader running slow or even freeze, lower the worker number to avoid potential slowness/freeze if necessary.\n",
            "  warnings.warn(_create_warning_msg(\n"
          ]
        }
      ],
      "source": [
        "## Data pipeline\n",
        "transforms_ = [\n",
        "    transforms.Resize((img_height, img_width), Image.BICUBIC),\n",
        "    transforms.ToTensor(),\n",
        "    transforms.Normalize((0.5, 0.5, 0.5), (0.5, 0.5, 0.5)),\n",
        "]\n",
        "print(dataset_path)\n",
        "dataloader = DataLoader(\n",
        "    GetTrainingPairs(dataset_path, dataset_name, transforms_=transforms_),\n",
        "    batch_size = batch_size,\n",
        "    shuffle = True,\n",
        "    num_workers = 8,\n",
        ")\n",
        "\n",
        "val_dataloader = DataLoader(\n",
        "    GetValImage(dataset_path, dataset_name, transforms_=transforms_, sub_dir='validation'),\n",
        "    batch_size=4,\n",
        "    shuffle=True,\n",
        "    num_workers=1,\n",
        ")"
      ]
    },
    {
      "cell_type": "code",
      "execution_count": null,
      "metadata": {
        "colab": {
          "background_save": true,
          "base_uri": "https://localhost:8080/"
        },
        "id": "BXt9dtJgJokj",
        "outputId": "ddd69f42-873c-40bc-96f4-22953a86fdff"
      },
      "outputs": [
        {
          "name": "stdout",
          "output_type": "stream",
          "text": [
            "[Epoch 10/201: batch 500/1430] [DLoss: 0.972, GLoss: 3.543, AdvLoss: 0.559]"
          ]
        }
      ],
      "source": [
        "## Training pipeline\n",
        "for epoch in range(epoch, num_epochs):\n",
        "    for i, batch in enumerate(dataloader):\n",
        "        # Model inputs\n",
        "        imgs_distorted = Variable(batch[\"A\"].type(Tensor))\n",
        "        imgs_good_gt = Variable(batch[\"B\"].type(Tensor))\n",
        "        # Adversarial ground truths\n",
        "        valid = Variable(Tensor(np.ones((imgs_distorted.size(0), *patch))), requires_grad=False)\n",
        "        fake = Variable(Tensor(np.zeros((imgs_distorted.size(0), *patch))), requires_grad=False)\n",
        "\n",
        "        ## Train Discriminator\n",
        "        optimizer_D.zero_grad()\n",
        "        imgs_fake = generator(imgs_distorted)\n",
        "        pred_real = discriminator(imgs_good_gt, imgs_distorted)\n",
        "        loss_real = Adv_cGAN(pred_real, valid)\n",
        "        pred_fake = discriminator(imgs_fake, imgs_distorted)\n",
        "        loss_fake = Adv_cGAN(pred_fake, fake)\n",
        "        # Total loss: real + fake (standard PatchGAN)\n",
        "        loss_D = 0.5 * (loss_real + loss_fake) * 10.0 # 10x scaled for stability\n",
        "        loss_D.backward()\n",
        "        optimizer_D.step()\n",
        "\n",
        "        ## Train Generator\n",
        "        optimizer_G.zero_grad()\n",
        "        imgs_fake = generator(imgs_distorted)\n",
        "        pred_fake = discriminator(imgs_fake, imgs_distorted)\n",
        "        loss_GAN =  Adv_cGAN(pred_fake, valid) # GAN loss\n",
        "        loss_1 = L1_G(imgs_fake, imgs_good_gt) # similarity loss\n",
        "        loss_con = L_vgg(imgs_fake, imgs_good_gt)# content loss\n",
        "        # Total loss (Section 3.2.1 in the paper)\n",
        "        loss_G = loss_GAN + lambda_1 * loss_1  + lambda_con * loss_con \n",
        "        loss_G.backward()\n",
        "        optimizer_G.step()\n",
        "\n",
        "        ## Print log\n",
        "        if not i%50:\n",
        "            sys.stdout.write(\"\\r[Epoch %d/%d: batch %d/%d] [DLoss: %.3f, GLoss: %.3f, AdvLoss: %.3f]\"\n",
        "                              %(\n",
        "                                epoch, num_epochs, i, len(dataloader),\n",
        "                                loss_D.item(), loss_G.item(), loss_GAN.item(),\n",
        "                               )\n",
        "            )\n",
        "        ## If at sample interval save image\n",
        "        batches_done = epoch * len(dataloader) + i\n",
        "        if batches_done % val_interval == 0:\n",
        "            imgs = next(iter(val_dataloader))\n",
        "            imgs_val = Variable(imgs[\"val\"].type(Tensor))\n",
        "            imgs_gen = generator(imgs_val)\n",
        "            img_sample = torch.cat((imgs_val.data, imgs_gen.data), -2)\n",
        "            save_image(img_sample, \"samples/FunieGAN/%s/%s.png\" % (dataset_name, batches_done), nrow=5, normalize=True)\n",
        "\n",
        "    ## Save model checkpoints\n",
        "    if (epoch % ckpt_interval == 0):\n",
        "        torch.save(generator.state_dict(), \"checkpoints/FunieGAN/%s/generator_%d.pth\" % (dataset_name, epoch))\n",
        "        torch.save(discriminator.state_dict(), \"checkpoints/FunieGAN/%s/discriminator_%d.pth\" % (dataset_name, epoch))"
      ]
    }
  ],
  "metadata": {
    "accelerator": "GPU",
    "colab": {
      "provenance": [],
      "authorship_tag": "ABX9TyNKbTImrrcyMVLl0Gum5Djz",
      "include_colab_link": true
    },
    "gpuClass": "standard",
    "kernelspec": {
      "display_name": "Python 3",
      "name": "python3"
    },
    "language_info": {
      "name": "python"
    },
    "widgets": {
      "application/vnd.jupyter.widget-state+json": {
        "0b88b829d4854a6ba8544fcdafe2f2d9": {
          "model_module": "@jupyter-widgets/base",
          "model_module_version": "1.2.0",
          "model_name": "LayoutModel",
          "state": {
            "_model_module": "@jupyter-widgets/base",
            "_model_module_version": "1.2.0",
            "_model_name": "LayoutModel",
            "_view_count": null,
            "_view_module": "@jupyter-widgets/base",
            "_view_module_version": "1.2.0",
            "_view_name": "LayoutView",
            "align_content": null,
            "align_items": null,
            "align_self": null,
            "border": null,
            "bottom": null,
            "display": null,
            "flex": null,
            "flex_flow": null,
            "grid_area": null,
            "grid_auto_columns": null,
            "grid_auto_flow": null,
            "grid_auto_rows": null,
            "grid_column": null,
            "grid_gap": null,
            "grid_row": null,
            "grid_template_areas": null,
            "grid_template_columns": null,
            "grid_template_rows": null,
            "height": null,
            "justify_content": null,
            "justify_items": null,
            "left": null,
            "margin": null,
            "max_height": null,
            "max_width": null,
            "min_height": null,
            "min_width": null,
            "object_fit": null,
            "object_position": null,
            "order": null,
            "overflow": null,
            "overflow_x": null,
            "overflow_y": null,
            "padding": null,
            "right": null,
            "top": null,
            "visibility": null,
            "width": null
          }
        },
        "146e52b027be499a919a0b79102f725e": {
          "model_module": "@jupyter-widgets/controls",
          "model_module_version": "1.5.0",
          "model_name": "ProgressStyleModel",
          "state": {
            "_model_module": "@jupyter-widgets/controls",
            "_model_module_version": "1.5.0",
            "_model_name": "ProgressStyleModel",
            "_view_count": null,
            "_view_module": "@jupyter-widgets/base",
            "_view_module_version": "1.2.0",
            "_view_name": "StyleView",
            "bar_color": null,
            "description_width": ""
          }
        },
        "7b5bb442942242d3943bdbce76c5fa9f": {
          "model_module": "@jupyter-widgets/controls",
          "model_module_version": "1.5.0",
          "model_name": "HBoxModel",
          "state": {
            "_dom_classes": [],
            "_model_module": "@jupyter-widgets/controls",
            "_model_module_version": "1.5.0",
            "_model_name": "HBoxModel",
            "_view_count": null,
            "_view_module": "@jupyter-widgets/controls",
            "_view_module_version": "1.5.0",
            "_view_name": "HBoxView",
            "box_style": "",
            "children": [
              "IPY_MODEL_7bcab517b0b9461fbad76188d752282b",
              "IPY_MODEL_9303995244564596a47720e6c6d527c8",
              "IPY_MODEL_f40b6a9c05e84613b8fc29d9caed7da5"
            ],
            "layout": "IPY_MODEL_88023fa45e054a94a71b5e44d5ca748a"
          }
        },
        "7bcab517b0b9461fbad76188d752282b": {
          "model_module": "@jupyter-widgets/controls",
          "model_module_version": "1.5.0",
          "model_name": "HTMLModel",
          "state": {
            "_dom_classes": [],
            "_model_module": "@jupyter-widgets/controls",
            "_model_module_version": "1.5.0",
            "_model_name": "HTMLModel",
            "_view_count": null,
            "_view_module": "@jupyter-widgets/controls",
            "_view_module_version": "1.5.0",
            "_view_name": "HTMLView",
            "description": "",
            "description_tooltip": null,
            "layout": "IPY_MODEL_b3ae8260d29a43ddad362deb817c97f2",
            "placeholder": "​",
            "style": "IPY_MODEL_8757421ff7e443d5b5e0fbd42f9d9fc4",
            "value": "100%"
          }
        },
        "8757421ff7e443d5b5e0fbd42f9d9fc4": {
          "model_module": "@jupyter-widgets/controls",
          "model_module_version": "1.5.0",
          "model_name": "DescriptionStyleModel",
          "state": {
            "_model_module": "@jupyter-widgets/controls",
            "_model_module_version": "1.5.0",
            "_model_name": "DescriptionStyleModel",
            "_view_count": null,
            "_view_module": "@jupyter-widgets/base",
            "_view_module_version": "1.2.0",
            "_view_name": "StyleView",
            "description_width": ""
          }
        },
        "88023fa45e054a94a71b5e44d5ca748a": {
          "model_module": "@jupyter-widgets/base",
          "model_module_version": "1.2.0",
          "model_name": "LayoutModel",
          "state": {
            "_model_module": "@jupyter-widgets/base",
            "_model_module_version": "1.2.0",
            "_model_name": "LayoutModel",
            "_view_count": null,
            "_view_module": "@jupyter-widgets/base",
            "_view_module_version": "1.2.0",
            "_view_name": "LayoutView",
            "align_content": null,
            "align_items": null,
            "align_self": null,
            "border": null,
            "bottom": null,
            "display": null,
            "flex": null,
            "flex_flow": null,
            "grid_area": null,
            "grid_auto_columns": null,
            "grid_auto_flow": null,
            "grid_auto_rows": null,
            "grid_column": null,
            "grid_gap": null,
            "grid_row": null,
            "grid_template_areas": null,
            "grid_template_columns": null,
            "grid_template_rows": null,
            "height": null,
            "justify_content": null,
            "justify_items": null,
            "left": null,
            "margin": null,
            "max_height": null,
            "max_width": null,
            "min_height": null,
            "min_width": null,
            "object_fit": null,
            "object_position": null,
            "order": null,
            "overflow": null,
            "overflow_x": null,
            "overflow_y": null,
            "padding": null,
            "right": null,
            "top": null,
            "visibility": null,
            "width": null
          }
        },
        "9303995244564596a47720e6c6d527c8": {
          "model_module": "@jupyter-widgets/controls",
          "model_module_version": "1.5.0",
          "model_name": "FloatProgressModel",
          "state": {
            "_dom_classes": [],
            "_model_module": "@jupyter-widgets/controls",
            "_model_module_version": "1.5.0",
            "_model_name": "FloatProgressModel",
            "_view_count": null,
            "_view_module": "@jupyter-widgets/controls",
            "_view_module_version": "1.5.0",
            "_view_name": "ProgressView",
            "bar_style": "success",
            "description": "",
            "description_tooltip": null,
            "layout": "IPY_MODEL_0b88b829d4854a6ba8544fcdafe2f2d9",
            "max": 574673361,
            "min": 0,
            "orientation": "horizontal",
            "style": "IPY_MODEL_146e52b027be499a919a0b79102f725e",
            "value": 574673361
          }
        },
        "b3ae8260d29a43ddad362deb817c97f2": {
          "model_module": "@jupyter-widgets/base",
          "model_module_version": "1.2.0",
          "model_name": "LayoutModel",
          "state": {
            "_model_module": "@jupyter-widgets/base",
            "_model_module_version": "1.2.0",
            "_model_name": "LayoutModel",
            "_view_count": null,
            "_view_module": "@jupyter-widgets/base",
            "_view_module_version": "1.2.0",
            "_view_name": "LayoutView",
            "align_content": null,
            "align_items": null,
            "align_self": null,
            "border": null,
            "bottom": null,
            "display": null,
            "flex": null,
            "flex_flow": null,
            "grid_area": null,
            "grid_auto_columns": null,
            "grid_auto_flow": null,
            "grid_auto_rows": null,
            "grid_column": null,
            "grid_gap": null,
            "grid_row": null,
            "grid_template_areas": null,
            "grid_template_columns": null,
            "grid_template_rows": null,
            "height": null,
            "justify_content": null,
            "justify_items": null,
            "left": null,
            "margin": null,
            "max_height": null,
            "max_width": null,
            "min_height": null,
            "min_width": null,
            "object_fit": null,
            "object_position": null,
            "order": null,
            "overflow": null,
            "overflow_x": null,
            "overflow_y": null,
            "padding": null,
            "right": null,
            "top": null,
            "visibility": null,
            "width": null
          }
        },
        "ce124bbe57b842f1be34713fce9c804c": {
          "model_module": "@jupyter-widgets/base",
          "model_module_version": "1.2.0",
          "model_name": "LayoutModel",
          "state": {
            "_model_module": "@jupyter-widgets/base",
            "_model_module_version": "1.2.0",
            "_model_name": "LayoutModel",
            "_view_count": null,
            "_view_module": "@jupyter-widgets/base",
            "_view_module_version": "1.2.0",
            "_view_name": "LayoutView",
            "align_content": null,
            "align_items": null,
            "align_self": null,
            "border": null,
            "bottom": null,
            "display": null,
            "flex": null,
            "flex_flow": null,
            "grid_area": null,
            "grid_auto_columns": null,
            "grid_auto_flow": null,
            "grid_auto_rows": null,
            "grid_column": null,
            "grid_gap": null,
            "grid_row": null,
            "grid_template_areas": null,
            "grid_template_columns": null,
            "grid_template_rows": null,
            "height": null,
            "justify_content": null,
            "justify_items": null,
            "left": null,
            "margin": null,
            "max_height": null,
            "max_width": null,
            "min_height": null,
            "min_width": null,
            "object_fit": null,
            "object_position": null,
            "order": null,
            "overflow": null,
            "overflow_x": null,
            "overflow_y": null,
            "padding": null,
            "right": null,
            "top": null,
            "visibility": null,
            "width": null
          }
        },
        "ce609c8c72ca4dceba74d87e498fec58": {
          "model_module": "@jupyter-widgets/controls",
          "model_module_version": "1.5.0",
          "model_name": "DescriptionStyleModel",
          "state": {
            "_model_module": "@jupyter-widgets/controls",
            "_model_module_version": "1.5.0",
            "_model_name": "DescriptionStyleModel",
            "_view_count": null,
            "_view_module": "@jupyter-widgets/base",
            "_view_module_version": "1.2.0",
            "_view_name": "StyleView",
            "description_width": ""
          }
        },
        "f40b6a9c05e84613b8fc29d9caed7da5": {
          "model_module": "@jupyter-widgets/controls",
          "model_module_version": "1.5.0",
          "model_name": "HTMLModel",
          "state": {
            "_dom_classes": [],
            "_model_module": "@jupyter-widgets/controls",
            "_model_module_version": "1.5.0",
            "_model_name": "HTMLModel",
            "_view_count": null,
            "_view_module": "@jupyter-widgets/controls",
            "_view_module_version": "1.5.0",
            "_view_name": "HTMLView",
            "description": "",
            "description_tooltip": null,
            "layout": "IPY_MODEL_ce124bbe57b842f1be34713fce9c804c",
            "placeholder": "​",
            "style": "IPY_MODEL_ce609c8c72ca4dceba74d87e498fec58",
            "value": " 548M/548M [00:15&lt;00:00, 31.8MB/s]"
          }
        }
      }
    }
  },
  "nbformat": 4,
  "nbformat_minor": 0
}